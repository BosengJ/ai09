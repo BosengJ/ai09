{
 "cells": [
  {
   "cell_type": "markdown",
   "metadata": {},
   "source": [
    "### 넘파이(NumPy) : 배열(ndarray, n dimension array)\n",
    "* 리스트(list) : Linked List구조(불연속), 동작 속도가 느리다, comma로 요소구별, 서로 다른 자료형 사용가능 \n",
    "* 배열(ndarray) : 연속된 메모리 구조, 동작 속도가 빠르다, comma를 사용하지 않고 공백으로 요소 구별,오직 한 가지 타입만 갖을 수 있다 "
   ]
  },
  {
   "cell_type": "code",
   "execution_count": 12,
   "metadata": {},
   "outputs": [
    {
     "name": "stdout",
     "output_type": "stream",
     "text": [
      "[0, 1, 2, 3, 4, 5, 'hello']\n",
      "<class 'list'>\n",
      "[0 1 2 3 4 5]\n",
      "<class 'numpy.ndarray'>\n",
      "int32\n"
     ]
    }
   ],
   "source": [
    "import numpy as np\n",
    "# pip install numpy\n",
    "\n",
    "# list\n",
    "list1 = [0,1,2,3,4,5,'hello']\n",
    "print(list1)\n",
    "print(type(list1))\n",
    "\n",
    "a = np.array([0,1,2,3,4,5])\n",
    "print(a)\n",
    "print(type(a))  # ndarray\n",
    "print(a.dtype)  # 요소의 자료형\n",
    "\n",
    "# Shift + Tab  : 변수위에 커서를 놓고 함수(메서드)의 프로토 타입을 볼수 있다"
   ]
  },
  {
   "cell_type": "code",
   "execution_count": 14,
   "metadata": {},
   "outputs": [
    {
     "data": {
      "text/plain": [
       "dict_keys(['?', 0, 'byte', 'b', 1, 'ubyte', 'B', 2, 'short', 'h', 3, 'ushort', 'H', 4, 'i', 5, 'uint', 'I', 6, 'intp', 'p', 9, 'uintp', 'P', 10, 'long', 'l', 7, 'L', 8, 'longlong', 'q', 'ulonglong', 'Q', 'half', 'e', 23, 'f', 11, 'double', 'd', 12, 'longdouble', 'g', 13, 'cfloat', 'F', 14, 'cdouble', 'D', 15, 'clongdouble', 'G', 16, 'O', 17, 'S', 18, 'unicode', 'U', 19, 'void', 'V', 20, 'M', 21, 'm', 22, 'bool8', 'Bool', 'b1', 'int64', 'Int64', 'i8', 'uint64', 'Uint64', 'u8', 'float16', 'Float16', 'f2', 'float32', 'Float32', 'f4', 'float64', 'Float64', 'f8', 'complex64', 'Complex32', 'c8', 'complex128', 'Complex64', 'c16', 'object0', 'Object0', 'bytes0', 'Bytes0', 'str0', 'Str0', 'void0', 'Void0', 'datetime64', 'Datetime64', 'M8', 'timedelta64', 'Timedelta64', 'm8', 'int32', 'Int32', 'i4', 'uint32', 'UInt32', 'u4', 'UInt64', 'int16', 'Int16', 'i2', 'uint16', 'UInt16', 'u2', 'int8', 'Int8', 'i1', 'uint8', 'UInt8', 'u1', 'complex_', 'int0', 'uint0', 'single', 'csingle', 'singlecomplex', 'float_', 'intc', 'uintc', 'int_', 'longfloat', 'clongfloat', 'longcomplex', 'bool_', 'bytes_', 'string_', 'unicode_', 'object_', 'str_', 'int', 'float', 'complex', 'bool', 'object', 'str', 'bytes', 'a'])"
      ]
     },
     "execution_count": 14,
     "metadata": {},
     "output_type": "execute_result"
    }
   ],
   "source": [
    "# numpy 의 dtype 객체의 종류: 대소문자 모두 사용가능\n",
    "np.sctypeDict.keys()"
   ]
  },
  {
   "cell_type": "code",
   "execution_count": 17,
   "metadata": {},
   "outputs": [
    {
     "name": "stdout",
     "output_type": "stream",
     "text": [
      "[0. 1. 2. 3. 4. 5.]\n",
      "<class 'numpy.ndarray'>\n",
      "float64\n"
     ]
    }
   ],
   "source": [
    "# int 와 float  ---> float\n",
    "a = np.array([0,1,2.,3,4,5])\n",
    "print(a)\n",
    "print(type(a))  # ndarray\n",
    "print(a.dtype)  # 요소의 자료형 , flaot64"
   ]
  },
  {
   "cell_type": "code",
   "execution_count": 18,
   "metadata": {},
   "outputs": [
    {
     "name": "stdout",
     "output_type": "stream",
     "text": [
      "['0' '1' '2.0' '3' '4' '5' 'Hello']\n",
      "<class 'numpy.ndarray'>\n",
      "<U32\n"
     ]
    }
   ],
   "source": [
    "# int 와 float  와 str  ---> Unicode string\n",
    "a = np.array([0,1,2.,3,4,5,'Hello'])\n",
    "print(a)\n",
    "print(type(a))  # ndarray\n",
    "print(a.dtype)  # 요소의 자료형  <U32\n",
    "# <U32 ,  < : 리틀엔디언, U:유니코드  , 32:최대문자 32 byte\n",
    "\n",
    "# 유니코드 인코딩 방식\n",
    "# (1) EUC-KR,CP949(MS949) : 완성형, 한글 2 바이트, 영문은 1 바이트, Windows\n",
    "# (2) UTF-8 : 조합형, 한글 3 바이트, 영문은 1 바이트, Linux "
   ]
  },
  {
   "cell_type": "code",
   "execution_count": 27,
   "metadata": {},
   "outputs": [
    {
     "name": "stdout",
     "output_type": "stream",
     "text": [
      "['1.234' '3.123' '4.4356' '5' '7'] <U6\n",
      "[1.234  3.123  4.4356 5.     7.    ] float32\n",
      "[1 3 4 5 7] int32\n"
     ]
    }
   ],
   "source": [
    "# 배열의 데이터 타입 변환 : astype()\n",
    "a1 = np.array(['1.234','3.123','4.4356','5','7'])\n",
    "print(a1,a1.dtype)  # <U6 : 리틀엔디언, 유니코드, 최대 문자 6 byte\n",
    "\n",
    "a2 = a1.astype('float32')\n",
    "print(a2,a2.dtype)\n",
    "\n",
    "a3 = a2.astype('int32')\n",
    "print(a3,a3.dtype)"
   ]
  },
  {
   "cell_type": "markdown",
   "metadata": {},
   "source": [
    "### 차원(dimension, Rank) 과 Shape"
   ]
  },
  {
   "cell_type": "code",
   "execution_count": null,
   "metadata": {},
   "outputs": [],
   "source": []
  }
 ],
 "metadata": {
  "kernelspec": {
   "display_name": "Python 3",
   "language": "python",
   "name": "python3"
  },
  "language_info": {
   "codemirror_mode": {
    "name": "ipython",
    "version": 3
   },
   "file_extension": ".py",
   "mimetype": "text/x-python",
   "name": "python",
   "nbconvert_exporter": "python",
   "pygments_lexer": "ipython3",
   "version": "3.7.4"
  }
 },
 "nbformat": 4,
 "nbformat_minor": 2
}
