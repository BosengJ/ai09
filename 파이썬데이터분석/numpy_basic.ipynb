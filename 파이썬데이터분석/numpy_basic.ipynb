{
 "cells": [
  {
   "cell_type": "markdown",
   "metadata": {},
   "source": [
    "### 넘파이(NumPy) : 배열(ndarray, n dimension array)\n",
    "* 리스트(list) : Linked List구조(불연속), 동작 속도가 느리다, comma로 요소구별, 서로 다른 자료형 사용가능 \n",
    "* 배열(ndarray) : 연속된 메모리 구조, 동작 속도가 빠르다, comma를 사용하지 않고 공백으로 요소 구별,오직 한 가지 타입만 갖을 수 있다 "
   ]
  },
  {
   "cell_type": "code",
   "execution_count": 1,
   "metadata": {},
   "outputs": [
    {
     "name": "stdout",
     "output_type": "stream",
     "text": [
      "[0, 1, 2, 3, 4, 5, 'hello']\n",
      "<class 'list'>\n",
      "[0 1 2 3 4 5]\n",
      "<class 'numpy.ndarray'>\n",
      "int32\n"
     ]
    }
   ],
   "source": [
    "import numpy as np\n",
    "# pip install numpy\n",
    "\n",
    "# list\n",
    "list1 = [0,1,2,3,4,5,'hello']\n",
    "print(list1)\n",
    "print(type(list1))\n",
    "\n",
    "a = np.array([0,1,2,3,4,5])\n",
    "print(a)\n",
    "print(type(a))  # ndarray\n",
    "print(a.dtype)  # 요소의 자료형\n",
    "\n",
    "# Shift + Tab  : 변수위에 커서를 놓고 함수(메서드)의 프로토 타입을 볼수 있다"
   ]
  },
  {
   "cell_type": "code",
   "execution_count": 14,
   "metadata": {},
   "outputs": [
    {
     "data": {
      "text/plain": [
       "dict_keys(['?', 0, 'byte', 'b', 1, 'ubyte', 'B', 2, 'short', 'h', 3, 'ushort', 'H', 4, 'i', 5, 'uint', 'I', 6, 'intp', 'p', 9, 'uintp', 'P', 10, 'long', 'l', 7, 'L', 8, 'longlong', 'q', 'ulonglong', 'Q', 'half', 'e', 23, 'f', 11, 'double', 'd', 12, 'longdouble', 'g', 13, 'cfloat', 'F', 14, 'cdouble', 'D', 15, 'clongdouble', 'G', 16, 'O', 17, 'S', 18, 'unicode', 'U', 19, 'void', 'V', 20, 'M', 21, 'm', 22, 'bool8', 'Bool', 'b1', 'int64', 'Int64', 'i8', 'uint64', 'Uint64', 'u8', 'float16', 'Float16', 'f2', 'float32', 'Float32', 'f4', 'float64', 'Float64', 'f8', 'complex64', 'Complex32', 'c8', 'complex128', 'Complex64', 'c16', 'object0', 'Object0', 'bytes0', 'Bytes0', 'str0', 'Str0', 'void0', 'Void0', 'datetime64', 'Datetime64', 'M8', 'timedelta64', 'Timedelta64', 'm8', 'int32', 'Int32', 'i4', 'uint32', 'UInt32', 'u4', 'UInt64', 'int16', 'Int16', 'i2', 'uint16', 'UInt16', 'u2', 'int8', 'Int8', 'i1', 'uint8', 'UInt8', 'u1', 'complex_', 'int0', 'uint0', 'single', 'csingle', 'singlecomplex', 'float_', 'intc', 'uintc', 'int_', 'longfloat', 'clongfloat', 'longcomplex', 'bool_', 'bytes_', 'string_', 'unicode_', 'object_', 'str_', 'int', 'float', 'complex', 'bool', 'object', 'str', 'bytes', 'a'])"
      ]
     },
     "execution_count": 14,
     "metadata": {},
     "output_type": "execute_result"
    }
   ],
   "source": [
    "# numpy 의 dtype 객체의 종류: 대소문자 모두 사용가능\n",
    "np.sctypeDict.keys()"
   ]
  },
  {
   "cell_type": "code",
   "execution_count": 17,
   "metadata": {},
   "outputs": [
    {
     "name": "stdout",
     "output_type": "stream",
     "text": [
      "[0. 1. 2. 3. 4. 5.]\n",
      "<class 'numpy.ndarray'>\n",
      "float64\n"
     ]
    }
   ],
   "source": [
    "# int 와 float  ---> float\n",
    "a = np.array([0,1,2.,3,4,5])\n",
    "print(a)\n",
    "print(type(a))  # ndarray\n",
    "print(a.dtype)  # 요소의 자료형 , flaot64"
   ]
  },
  {
   "cell_type": "code",
   "execution_count": 18,
   "metadata": {},
   "outputs": [
    {
     "name": "stdout",
     "output_type": "stream",
     "text": [
      "['0' '1' '2.0' '3' '4' '5' 'Hello']\n",
      "<class 'numpy.ndarray'>\n",
      "<U32\n"
     ]
    }
   ],
   "source": [
    "# int 와 float 와 str  ---> Unicode string\n",
    "a = np.array([0,1,2.,3,4,5,'Hello'])\n",
    "print(a)\n",
    "print(type(a))  # ndarray\n",
    "print(a.dtype)  # 요소의 자료형  <U32\n",
    "# <U32 ,  < : 리틀엔디언, U:유니코드  , 32:최대문자 32 byte\n",
    "\n",
    "# 유니코드 인코딩 방식\n",
    "# (1) EUC-KR,CP949(MS949) : 완성형, 한글 2 바이트, 영문은 1 바이트, Windows\n",
    "# (2) UTF-8 : 조합형, 한글 3 바이트, 영문은 1 바이트, Linux "
   ]
  },
  {
   "cell_type": "code",
   "execution_count": 27,
   "metadata": {},
   "outputs": [
    {
     "name": "stdout",
     "output_type": "stream",
     "text": [
      "['1.234' '3.123' '4.4356' '5' '7'] <U6\n",
      "[1.234  3.123  4.4356 5.     7.    ] float32\n",
      "[1 3 4 5 7] int32\n"
     ]
    }
   ],
   "source": [
    "# 배열의 데이터 타입 변환 : astype()\n",
    "a1 = np.array(['1.234','3.123','4.4356','5','7'])\n",
    "print(a1,a1.dtype)  # <U6 : 리틀엔디언, 유니코드, 최대 문자 6 byte\n",
    "\n",
    "a2 = a1.astype('float32')\n",
    "print(a2,a2.dtype)\n",
    "\n",
    "a3 = a2.astype('int32')\n",
    "print(a3,a3.dtype)"
   ]
  },
  {
   "cell_type": "markdown",
   "metadata": {},
   "source": [
    "### 차원(dimension, Rank) 과 Shape\n",
    "* 차원(Dimension, Rank) : 1,2,3 차원 , n 차원, 첫 데이터까지의 대괄호의 갯수\n",
    "* Shape : 차원의 요소의 수, 튜플 형식\n",
    "#### 1차원 Shape : (x,)\n",
    "#### 2차원 Shape : (x,y)  , 행렬(matrix)\n",
    "#### 3차원 Shape : (x,y,z) , (면,행,열)\n",
    "...\n",
    "#### n차원 Shape : (x,y,z,....)"
   ]
  },
  {
   "cell_type": "code",
   "execution_count": 40,
   "metadata": {},
   "outputs": [
    {
     "name": "stdout",
     "output_type": "stream",
     "text": [
      "[ 0  1  2  3  4  5  6  7  8  9 10 11] <class 'numpy.ndarray'>\n",
      "(12,)\n",
      "<class 'tuple'>\n",
      "12\n",
      "[2 3 4 5 6 7 8 9] <class 'numpy.ndarray'>\n",
      "(8,)\n",
      "[ 0  2  4  6  8 10 12 14] <class 'numpy.ndarray'>\n",
      "(8,)\n"
     ]
    }
   ],
   "source": [
    "# 1차원의 배열의 Shape\n",
    "# arange(start,end +1,step)\n",
    "a = np.arange(12)\n",
    "print(a,type(a))\n",
    "print(a.shape)   # (12,)\n",
    "t = a.shape\n",
    "print(type(t))\n",
    "print(a.shape[0])\n",
    "\n",
    "a2 = np.arange(2,10)\n",
    "print(a2,type(a2))\n",
    "print(a2.shape)\n",
    "\n",
    "a3 = np.arange(0,16,2)\n",
    "print(a3,type(a3))\n",
    "print(a3.shape)"
   ]
  },
  {
   "cell_type": "code",
   "execution_count": 44,
   "metadata": {},
   "outputs": [
    {
     "name": "stdout",
     "output_type": "stream",
     "text": [
      "[[0 1 2]\n",
      " [0 1 2]]\n",
      "(2, 3)\n",
      "2 3\n"
     ]
    }
   ],
   "source": [
    "# 2차원 배열의 Shape : 행(row,가로,수직,axis = 0) 과 열(column,세로,수평,axis =1)  ==> 필수 암기\n",
    "# m = np.array([np.arange(3),np.arange(3)])\n",
    "m = np.array([[0,1,2],\n",
    "              [0,1,2]])\n",
    "print(m)\n",
    "print(m.shape)  # (2,3)\n",
    "print(m.shape[0],m.shape[1])"
   ]
  },
  {
   "cell_type": "code",
   "execution_count": 53,
   "metadata": {},
   "outputs": [
    {
     "name": "stdout",
     "output_type": "stream",
     "text": [
      "[[[0 1 2]\n",
      "  [3 4 5]]\n",
      "\n",
      " [[0 1 2]\n",
      "  [3 4 5]]]\n",
      "(2, 2, 3)\n",
      "3\n"
     ]
    }
   ],
   "source": [
    "# 3차원 배열의 Shape : (면,행,열)\n",
    "m = np.array([[[0,1,2],\n",
    "               [3,4,5]],\n",
    "              [[0,1,2],\n",
    "               [3,4,5]]])\n",
    "print(m)\n",
    "print(m.shape)    # (2,2,3) \n",
    "print(m.shape[2])"
   ]
  },
  {
   "cell_type": "markdown",
   "metadata": {},
   "source": [
    "### 배열의 shape 바꾸기 : reshape() 함수"
   ]
  },
  {
   "cell_type": "code",
   "execution_count": 62,
   "metadata": {},
   "outputs": [
    {
     "name": "stdout",
     "output_type": "stream",
     "text": [
      "[ 0  1  2  3  4  5  6  7  8  9 10 11]\n",
      "(12,)\n",
      "[[ 0  1  2  3]\n",
      " [ 4  5  6  7]\n",
      " [ 8  9 10 11]]\n",
      "(3, 4)\n",
      "[[ 0  1  2]\n",
      " [ 3  4  5]\n",
      " [ 6  7  8]\n",
      " [ 9 10 11]]\n",
      "(4, 3)\n",
      "[[ 0  1  2  3  4  5]\n",
      " [ 6  7  8  9 10 11]]\n",
      "(2, 6)\n",
      "[[ 0]\n",
      " [ 1]\n",
      " [ 2]\n",
      " [ 3]\n",
      " [ 4]\n",
      " [ 5]\n",
      " [ 6]\n",
      " [ 7]\n",
      " [ 8]\n",
      " [ 9]\n",
      " [10]\n",
      " [11]]\n",
      "(12, 1)\n",
      "[[[ 0  1  2]\n",
      "  [ 3  4  5]]\n",
      "\n",
      " [[ 6  7  8]\n",
      "  [ 9 10 11]]]\n",
      "(2, 2, 3)\n",
      "[[[[ 0  1]]\n",
      "\n",
      "  [[ 2  3]]]\n",
      "\n",
      "\n",
      " [[[ 4  5]]\n",
      "\n",
      "  [[ 6  7]]]\n",
      "\n",
      "\n",
      " [[[ 8  9]]\n",
      "\n",
      "  [[10 11]]]]\n",
      "(3, 2, 1, 2)\n"
     ]
    }
   ],
   "source": [
    "m1 = np.arange(12)\n",
    "print(m1)\n",
    "print(m1.shape)   # (12,)\n",
    "\n",
    "m2 = m1.reshape(3,4)\n",
    "print(m2)\n",
    "print(m2.shape)  # (3, 4)\n",
    "\n",
    "m2 = m1.reshape(4,3)\n",
    "print(m2)\n",
    "print(m2.shape)  # (4, 3)\n",
    "\n",
    "m2 = m1.reshape(2,6)\n",
    "print(m2)\n",
    "print(m2.shape)  # (2, 6)\n",
    "\n",
    "m2 = m1.reshape(12,1)\n",
    "print(m2)\n",
    "print(m2.shape)  # (12, 1)\n",
    "\n",
    "m3 = m1.reshape(2,2,3)\n",
    "print(m3)\n",
    "print(m3.shape)  # (2,2,3)\n",
    "\n",
    "m4 = m1.reshape(3,2,1,2)\n",
    "print(m4)\n",
    "print(m4.shape)"
   ]
  },
  {
   "cell_type": "code",
   "execution_count": 72,
   "metadata": {},
   "outputs": [
    {
     "name": "stdout",
     "output_type": "stream",
     "text": [
      "[ 0  1  2  3  4  5  6  7  8  9 10 11] (12,)\n",
      "[[ 0  1  2  3  4  5]\n",
      " [ 6  7  8  9 10 11]] (2, 6)\n",
      "[[ 0  1  2]\n",
      " [ 3  4  5]\n",
      " [ 6  7  8]\n",
      " [ 9 10 11]] (4, 3)\n",
      "[[ 0]\n",
      " [ 1]\n",
      " [ 2]\n",
      " [ 3]\n",
      " [ 4]\n",
      " [ 5]\n",
      " [ 6]\n",
      " [ 7]\n",
      " [ 8]\n",
      " [ 9]\n",
      " [10]\n",
      " [11]] (12, 1)\n"
     ]
    }
   ],
   "source": [
    "# -1 을 사용한 reshape\n",
    "m1 = np.arange(12)\n",
    "print(m1,m1.shape)    # (12,)\n",
    "\n",
    "m2 = m1.reshape(-1,6) # 행의 요소수를 자동으로 계산, 2\n",
    "print(m2,m2.shape)    # (2,6)\n",
    "\n",
    "m2 = m1.reshape(4,-1) # 열의 요소수를 자동으로 계산, 3\n",
    "print(m2,m2.shape)    # (4,3)\n",
    "\n",
    "m2 = m1.reshape(-1,1) # 행의 요소수를 자동으로 계산, 12\n",
    "print(m2,m2.shape)    # (12,1)"
   ]
  },
  {
   "cell_type": "markdown",
   "metadata": {},
   "source": [
    "### 배열의 인덱싱과 슬라이싱"
   ]
  },
  {
   "cell_type": "code",
   "execution_count": 83,
   "metadata": {},
   "outputs": [
    {
     "name": "stdout",
     "output_type": "stream",
     "text": [
      "[ 0  1  2  3  4  5  6  7  8  9 10 11] (12,)\n",
      "0 1 2 11\n",
      "[2 3 4 5 6 7] [ 0  1  2  3  4  5  6  7  8  9 10 11] [ 0  1  2  3  4  5  6  7  8  9 10]\n",
      "[ 0  2  4  6  8 10] [11 10  9  8  7  6  5  4  3  2  1  0]\n",
      "[10  1  2  3  4  5  6  7  8  9 10 11]\n"
     ]
    }
   ],
   "source": [
    "# 1차원 배열의 인덱싱과 슬라이싱 : list 와 동일한 방법\n",
    "d = np.arange(12)\n",
    "print(d,d.shape)\n",
    "print(d[0],d[1],d[2],d[-1])\n",
    "print(d[2:8],d[:],d[:-1])\n",
    "print(d[::2],d[::-1])\n",
    "\n",
    "d[0] = 10   # list 처럼 요소 변경이 가능\n",
    "print(d)"
   ]
  },
  {
   "cell_type": "code",
   "execution_count": 103,
   "metadata": {},
   "outputs": [
    {
     "name": "stdout",
     "output_type": "stream",
     "text": [
      "[[ 0  1  2  3]\n",
      " [ 4  5  6  7]\n",
      " [ 8  9 10 11]] (3, 4)\n",
      "0\n",
      "0\n",
      "9\n",
      "[0 1 2 3]\n",
      "[0 1 2 3]\n",
      "[[ 0  1  2]\n",
      " [ 4  5  6]\n",
      " [ 8  9 10]]\n",
      "[[ 0  2]\n",
      " [ 8 10]]\n",
      "[[20 20 20 20]\n",
      " [ 4  5  6  7]\n",
      " [ 8  9 10 11]]\n",
      "[[30 30]\n",
      " [30 30]]\n",
      "[[30 20 20 30]\n",
      " [ 4  5  6  7]\n",
      " [30  9 10 30]]\n",
      "[[-1 -1 -1 -1]\n",
      " [-1 -1 -1 -1]\n",
      " [-1 -1 -1 -1]]\n"
     ]
    }
   ],
   "source": [
    "# 2차원 배열의 인덱싱과 슬라이싱 \n",
    "# data[행,열]\n",
    "d = np.arange(12).reshape(3,4)\n",
    "print(d,d.shape)\n",
    "\n",
    "# 인덱싱\n",
    "print(d[0][0])  # 0\n",
    "print(d[0,0])   # 0\n",
    "print(d[2,1])   # 9\n",
    "\n",
    "# 슬라이싱\n",
    "print(d[0])     # [0 1 2 3]\n",
    "print(d[0,:])   # [0 1 2 3]\n",
    "\n",
    "print(d[:,:-1])  # (3,3), 마지막 열을 제외\n",
    "print(d[::2,::2]) # (2,2)\n",
    "\n",
    "d[0] = 20    # 0번 행의 모든 요소를 20으로 변경\n",
    "print(d)\n",
    "\n",
    "d[::2,::3] = 30  # 슬라이싱 된 요소 전체를 한번에 변경할 수 있다\n",
    "print(d[::2,::3])\n",
    "print(d)\n",
    "\n",
    "d[:,:] = -1   # 전체 요소를 한번에 변경할 수 있다\n",
    "print(d)"
   ]
  },
  {
   "cell_type": "code",
   "execution_count": 114,
   "metadata": {},
   "outputs": [
    {
     "name": "stdout",
     "output_type": "stream",
     "text": [
      "[[[ 0  1  2]\n",
      "  [ 3  4  5]]\n",
      "\n",
      " [[ 6  7  8]\n",
      "  [ 9 10 11]]] (2, 2, 3)\n",
      "0\n",
      "0\n",
      "5\n",
      "[[[0 1]]\n",
      "\n",
      " [[6 7]]]\n",
      "[[[ 4  5]]\n",
      "\n",
      " [[10 11]]]\n",
      "[ 5 11]\n",
      "[[ 2  5]\n",
      " [ 8 11]]\n"
     ]
    }
   ],
   "source": [
    "# 3차원 배열의 인덱싱과 슬라이싱\n",
    "# data[면,행,열]\n",
    "d = np.arange(12).reshape(2,2,3)\n",
    "print(d,d.shape)\n",
    "\n",
    "# 인덱싱\n",
    "print(d[0][0][0])  # old style\n",
    "print(d[0,0,0])\n",
    "print(d[0,1,2])\n",
    "\n",
    "# 슬라이싱\n",
    "print(d[:,:-1,:-1]) # (2,1,2)\n",
    "print(d[:,1:,1:])   # (2,1,2)\n",
    "print(d[:,-1,-1])   # (2,)\n",
    "print(d[:,:,-1])    # (2,1)"
   ]
  },
  {
   "cell_type": "markdown",
   "metadata": {},
   "source": [
    "### 불린 인덱싱: 조건식을 사용한 인덱싱, 조건 검색 필터를 사용한 추출(매우 중요)"
   ]
  },
  {
   "cell_type": "code",
   "execution_count": 16,
   "metadata": {},
   "outputs": [
    {
     "name": "stdout",
     "output_type": "stream",
     "text": [
      "[1 2 3 4 5 6]\n",
      "[False False  True  True  True  True]\n",
      "[3 4 5 6]\n",
      "[3 4 5 6]\n",
      "[ True False  True False  True  True]\n",
      "[1 3 5 6]\n",
      "[1 2 4 5 6]\n",
      "[3 4 5]\n",
      "[2 4 6]\n",
      "[1 2 3]\n"
     ]
    }
   ],
   "source": [
    "a = np.array([1,2,3,4,5,6])\n",
    "print(a)\n",
    "\n",
    "print( a > 2)\n",
    "print(a[a > 2])   # 배열 a에서 2보다 큰 요소들을 추출\n",
    "print(a[[False, False,  True,  True,  True,  True]])  \n",
    "\n",
    "boolean_index = np.array([True,False,True,False,True,True])  # 리스트를 그대로 사용해도 가능\n",
    "print(boolean_index)\n",
    "print(a[boolean_index])\n",
    "\n",
    "print(a[a !=3 ])\n",
    "print(a[(a > 2) & (a < 6)])\n",
    "print(a[(a % 2) == 0])\n",
    "print(a[ a < a.mean()])  # 배열 a에서 평균보다 작은 값만 추출\n",
    "\n",
    "# print(a[True])    # 모든 요소가 출력\n",
    "# print(a[False])   # 빈 배열"
   ]
  },
  {
   "cell_type": "markdown",
   "metadata": {},
   "source": [
    "#### fancy 인덱싱 : 리스트나 배열로 임의의 집합을 지정하여 인덱싱,(멋대로 내키는 대로 인덱싱)"
   ]
  },
  {
   "cell_type": "code",
   "execution_count": 21,
   "metadata": {},
   "outputs": [
    {
     "name": "stdout",
     "output_type": "stream",
     "text": [
      "[1 2 3 4 5 6] (6,)\n",
      "[2 4 6 3]\n",
      "[1 6 4 5]\n"
     ]
    }
   ],
   "source": [
    "# 1 차원 배열의 fancy 인덱싱\n",
    "a = np.arange(1,7)\n",
    "print(a,a.shape)\n",
    "print(a[[1,3,5,2]])\n",
    "print(a[[0,-1,-3,-2]])"
   ]
  },
  {
   "cell_type": "code",
   "execution_count": 29,
   "metadata": {},
   "outputs": [
    {
     "name": "stdout",
     "output_type": "stream",
     "text": [
      "[[10 20 30]\n",
      " [40 50 60]\n",
      " [70 80 90]] (3, 3)\n",
      "[10 80]\n",
      "[[10 20]\n",
      " [70 80]]\n",
      "10 80\n"
     ]
    }
   ],
   "source": [
    "# 2 차원 배열의 fancy 인덱싱\n",
    "a = np.arange(10,100,10).reshape(3,3)\n",
    "print(a,a.shape)\n",
    "print(a[[0,2],[0,1]])  # 행과 열이 서로 match\n",
    "print(a[[0,2],:2]) \n",
    "\n",
    "print(a[0,0],a[2,1])"
   ]
  },
  {
   "cell_type": "code",
   "execution_count": 33,
   "metadata": {},
   "outputs": [
    {
     "name": "stdout",
     "output_type": "stream",
     "text": [
      "[[ 0  1  2  3]\n",
      " [ 4  5  6  7]\n",
      " [ 8  9 10 11]]\n",
      "[ 0  1  2  3  4  5  6  7  8  9 10 11]\n",
      "[[ 8  9 10 11]\n",
      " [ 4  5  6  7]\n",
      " [ 0  1  2  3]]\n",
      "[[ 3  2  1  0]\n",
      " [ 7  6  5  4]\n",
      " [11 10  9  8]]\n",
      "[[11 10  9  8]\n",
      " [ 7  6  5  4]\n",
      " [ 3  2  1  0]]\n",
      "[[ 0  4  8]\n",
      " [ 1  5  9]\n",
      " [ 2  6 10]\n",
      " [ 3  7 11]] (4, 3)\n",
      "[[ 0  4  8]\n",
      " [ 1  5  9]\n",
      " [ 2  6 10]\n",
      " [ 3  7 11]]\n",
      "[[0 0 0 0]\n",
      " [0 0 0 0]\n",
      " [0 0 0 0]] (3, 4)\n"
     ]
    }
   ],
   "source": [
    "# 배열의 형상 다루기 : reshape(), 편평화(flatten()), 전치(transpose())\n",
    "\n",
    "# flatten() : 다차원 배열을 1 차원으로 만든다\n",
    "d = np.arange(12).reshape(3,4)\n",
    "print(d)\n",
    "\n",
    "f = d.flatten()   # (3,4) --> (12,)  , d.reshape(12,)\n",
    "print(f)\n",
    "\n",
    "# 데이터 순서를 거꾸로 변경\n",
    "print(d[::-1])        # 행의 순서를 거꾸로 변경\n",
    "print(d[:,::-1])      # 열의 순서를 거꾸로 변경\n",
    "print(d[::-1,::-1])   # 행과 열의 순서를 거꾸로 변경\n",
    "\n",
    "# transpose() : 전치 행렬, 행과 열을 서로 맞바꾸는 함수\n",
    "t = d.transpose()\n",
    "print(t,t.shape)  # (3,4)  ==> (4,3)\n",
    "\n",
    "print(d.T)  # transpose()와 동일한 결과\n",
    "\n",
    "# 임시로 1차원으로 변경하여 데이터를 채우고 다시 원래의 shape을 갖는다\n",
    "d.flat = 0\n",
    "print(d,d.shape)  # (3, 4)"
   ]
  },
  {
   "cell_type": "markdown",
   "metadata": {},
   "source": [
    "### numpy 의 속성(Attribute) : 멤버 변수, 메서드"
   ]
  },
  {
   "cell_type": "markdown",
   "metadata": {},
   "source": [
    "#### dtype,shape,ndim,flat,T,size,nbytes"
   ]
  },
  {
   "cell_type": "code",
   "execution_count": 43,
   "metadata": {},
   "outputs": [
    {
     "name": "stdout",
     "output_type": "stream",
     "text": [
      "[[ 0  1  2  3]\n",
      " [ 4  5  6  7]\n",
      " [ 8  9 10 11]] (3, 4)\n",
      "int32\n",
      "2 2\n",
      "[[ 0  4  8]\n",
      " [ 1  5  9]\n",
      " [ 2  6 10]\n",
      " [ 3  7 11]]\n",
      "48\n",
      "12\n",
      "[[1 1 1 1]\n",
      " [1 1 1 1]\n",
      " [1 1 1 1]]\n"
     ]
    }
   ],
   "source": [
    "d = np.arange(12).reshape(3,4)\n",
    "print(d,d.shape)    # (3,4)\n",
    "print(d.dtype)\n",
    "print(d.ndim, len(d.shape)) # 2\n",
    "print(d.T)          # transpose() 함수와 동일한 결과\n",
    "print(d.nbytes)     # 4 bytes * 12 => 48 bytes\n",
    "print(d.size)       # 12개, 데이터의 갯수\n",
    "d.flat = 1\n",
    "print(d)"
   ]
  },
  {
   "cell_type": "code",
   "execution_count": 57,
   "metadata": {},
   "outputs": [
    {
     "name": "stdout",
     "output_type": "stream",
     "text": [
      "[[ 0  1  2  3]\n",
      " [ 4  5  6  7]\n",
      " [ 8  9 10 11]]\n",
      "11\n",
      "0\n",
      "66\n",
      "5.5\n",
      "3.452052529534663\n",
      "11.916666666666666\n",
      "5.5\n",
      "25%: 2.75\n",
      "50%: 5.5\n",
      "75%: 8.25\n"
     ]
    }
   ],
   "source": [
    "# numpy 통계 함수들\n",
    "a = np.arange(12).reshape(3,4)\n",
    "print(a)\n",
    "\n",
    "print(a.max())  # 최대값  , np.max(a)\n",
    "print(a.min())  # 최소값  , np.min(a)\n",
    "print(a.sum())  # 합\n",
    "print(a.mean()) # 평균\n",
    "\n",
    "print(a.std())  # 표준편차\n",
    "print(a.var())  # 분산\n",
    "print(np.median(a)) # 중위수\n",
    "\n",
    "# 사분위수\n",
    "print('25%:',np.percentile(a,25)) # 1 사분위수(Q1)\n",
    "print('50%:',np.percentile(a,50)) # 2 사분위수(Q2), median()과 같은 값\n",
    "print('75%:',np.percentile(a,75)) # 3 사분위수(Q3)"
   ]
  },
  {
   "cell_type": "code",
   "execution_count": 63,
   "metadata": {},
   "outputs": [
    {
     "name": "stdout",
     "output_type": "stream",
     "text": [
      "[[ 0  1  2  3]\n",
      " [ 4  5  6  7]\n",
      " [ 8  9 10 11]] (3, 4)\n",
      "66\n",
      "[12 15 18 21]\n",
      "[ 6 22 38]\n",
      "66\n",
      "[ 6 22 38]\n"
     ]
    }
   ],
   "source": [
    "# axis 사용법\n",
    "a = np.arange(12).reshape(3,4)\n",
    "print(a,a.shape)\n",
    "print(a.sum())  # 배열 전체의 합\n",
    "\n",
    "print(a.sum(axis = 0))\n",
    "print(a.sum(axis = 1))\n",
    "\n",
    "# print(a.sum(axis = None))  # a.sum() \n",
    "# print(a.sum(axis = -1))    # a.sum(axis = 1)"
   ]
  },
  {
   "cell_type": "code",
   "execution_count": 69,
   "metadata": {},
   "outputs": [
    {
     "name": "stdout",
     "output_type": "stream",
     "text": [
      "[9 2 8 3 1 4 5 6] (8,)\n",
      "[1 2 3 4 5 6 8 9]\n",
      "[1 2 3 4 5 6 8 9]\n",
      "[9 8 6 5 4 3 2 1]\n"
     ]
    }
   ],
   "source": [
    "# sort() 함수\n",
    "a = np.array([9,2,8,3,1,4,5,6])\n",
    "print(a,a.shape)\n",
    "\n",
    "r = np.sort(a)  # 오름차순, 원본 변경 없음, sort된 결과를 반환\n",
    "print(r)\n",
    "\n",
    "a.sort()       # 오름차순, 원본 변경\n",
    "print(a)\n",
    "\n",
    "r = np.sort(a)[::-1] # 내림 차순: 오름 차순 정렬후 순서를 거꾸로 변경 \n",
    "print(r)"
   ]
  },
  {
   "cell_type": "code",
   "execution_count": 73,
   "metadata": {},
   "outputs": [
    {
     "name": "stdout",
     "output_type": "stream",
     "text": [
      "[9 2 8 3 1 4 5 6] (8,)\n",
      "<class 'numpy.ndarray'>\n",
      "[4 1 3 5 6 7 2 0]\n"
     ]
    }
   ],
   "source": [
    "# argsort() 함수  : sort된 후 해당 값의 인덱스(원본기준)를 반환\n",
    "a = np.array([9,2,8,3,1,4,5,6])\n",
    "print(a,a.shape)\n",
    "sort_index = np.argsort(a)\n",
    "print(type(sort_index))\n",
    "print(sort_index)"
   ]
  },
  {
   "cell_type": "code",
   "execution_count": 124,
   "metadata": {},
   "outputs": [
    {
     "data": {
      "image/png": "[encoded data removed]",
      "text/plain": [
       "<Figure size 432x288 with 3 Axes>"
      ]
     },
     "metadata": {
      "needs_background": "light"
     },
     "output_type": "display_data"
    }
   ],
   "source": [
    "# raccoon(오리너구리 사진)\n",
    "# View : 원본 객체와 메모리를 공유하는 사본 \n",
    "# Copy : 원본 객체와 다른 별도의 메모리를 사용하는 사본 \n",
    "\n",
    "import scipy.misc\n",
    "import matplotlib.pyplot as plt   # 시각화 라이브러리\n",
    "\n",
    "face = scipy.misc.face()  # Read Only 용\n",
    "face2 = face.copy() # 별도의 메모리에 사본을 생성, RW\n",
    "\n",
    "f_view = face2.view() # 원본 객체와 메모리를 공유하는 사본 \n",
    "f_copy = face2.copy() # 원본 객체와 다른 별도의 메모리를 사용하는 사본 \n",
    "\n",
    "# print(type(face))  # ndarray\n",
    "# print(face.shape)  # (768, 1024, 3), (y,x,rgb)\n",
    "# print(face.nbytes/1024) # 2.3 Mega\n",
    "# print(face)\n",
    "\n",
    "#  RGB: Red    :  Green  :    Blue (8:8:8)\n",
    "#     11111111 : 00000000: 00000000 (2진수)  \n",
    "\n",
    "# f_view.flat = 0\n",
    "f_copy.flat = 0\n",
    "\n",
    "plt.subplot(2,2,1) # 화면을 분할하여 출력 ,2*2 = 4 개의 그래프로, 1은 첫번째 위치\n",
    "plt.imshow(face2)  # 사진을 그래프로 출력\n",
    "\n",
    "plt.subplot(2,2,2)\n",
    "plt.imshow(f_view)  # 사진을 그래프로 출력\n",
    "\n",
    "plt.subplot(2,2,3)\n",
    "plt.imshow(f_copy)  # 사진을 그래프로 출력\n",
    "\n",
    "plt.show()        # 윈도 새 프레임창에 그래프 전체를 출력 "
   ]
  },
  {
   "cell_type": "code",
   "execution_count": 117,
   "metadata": {},
   "outputs": [
    {
     "name": "stdout",
     "output_type": "stream",
     "text": [
      "start: 1590377406.7125301\n",
      "end: 1590377406.713526\n",
      "실행 소요 시간: 0.0009958744049072266\n",
      "121\n",
      "[[121 138 153 ... 119 131 139]\n",
      " [ 89 110 130 ... 118 134 146]\n",
      " [ 73  94 115 ... 117 133 144]\n",
      " ...\n",
      " [ 87  94 107 ... 120 119 119]\n",
      " [ 85  95 112 ... 121 120 120]\n",
      " [ 85  97 111 ... 120 119 118]]\n",
      "[[112 129 144 ... 126 136 144]\n",
      " [ 82 103 122 ... 125 141 153]\n",
      " [ 66  87 108 ... 126 142 153]\n",
      " ...\n",
      " [106 110 124 ... 158 157 158]\n",
      " [101 111 127 ... 157 156 156]\n",
      " [101 113 126 ... 156 155 154]]\n",
      "[[131 148 165 ...  74  82  90]\n",
      " [100 121 143 ...  71  87  99]\n",
      " [ 84 105 126 ...  71  87  98]\n",
      " ...\n",
      " [ 76  81  92 ...  97  96  95]\n",
      " [ 72  82  96 ...  96  94  94]\n",
      " [ 74  84  97 ...  95  93  92]]\n"
     ]
    }
   ],
   "source": [
    "# 실습 과제 힌트\n",
    "#[1] 파이썬 소스 코드 실행 시간 측정\n",
    "import time\n",
    "start = time.time()\n",
    "print('start:',start)\n",
    "# -----------------------\n",
    "# total = 0\n",
    "# for k in range(10000000):\n",
    "#     total += k*100\n",
    "# -----------------------\n",
    "end = time.time()\n",
    "print('end:',end)\n",
    "\n",
    "print('실행 소요 시간:',end - start)\n",
    "\n",
    "# [2] face 3차원 데이터의 인덱싱\n",
    "# (768, 1024, 3), (y,x,rgb)\n",
    "print(face2[0][0][0]) # old style\n",
    "print(face2[:,:,0])  # Red 값만 추출\n",
    "print(face2[:,:,1])  # Green값만 추출\n",
    "print(face2[:,:,2])  # Blue 값만 추출\n",
    "\n",
    "# [3] 조건 검색(불린인덱스)\n",
    "data = np.arange(12).reshape(4,1,3)\n",
    "b = data.copy()\n",
    "\n",
    "# 3번째 열을 모두 0 으로 변경 : (면,행,열)\n",
    "b[:,:,2] = 0\n",
    "\n",
    "# 3보다 큰 값을 모두 10으로 변경\n",
    "b[b > 3] = 10\n",
    "\n",
    "# 3번째 열중에서 3보다 큰 값을 모두 10으로 변경\n",
    "c = b[:,:,2]\n",
    "c[c > 3] = 10\n",
    "\n",
    "b[:,:,2][b[:,:,2] > 3] = 10"
   ]
  },
  {
   "cell_type": "code",
   "execution_count": 128,
   "metadata": {},
   "outputs": [],
   "source": [
    "# %matplotlib qt  \n",
    "# 외부 프레임에 출력\n",
    "\n",
    "%matplotlib inline \n",
    "# 노트북 내부에 출력"
   ]
  },
  {
   "cell_type": "code",
   "execution_count": 132,
   "metadata": {},
   "outputs": [
    {
     "name": "stdout",
     "output_type": "stream",
     "text": [
      "elapsed time : 0.005999088287353516\n"
     ]
    }
   ],
   "source": [
    "# numpy 기본 실습 과제.py\n",
    "import numpy  as np\n",
    "import scipy.misc\n",
    "import matplotlib.pyplot as plt\n",
    "import time\n",
    "\n",
    "\n",
    "# 2번\n",
    "face = scipy.misc.face()   # face: read only\n",
    "face01 = face.copy()        # face01: read and write 가능\n",
    "face02 = face.copy()        # face02: read and write 가능\n",
    "face03 = face.copy()        # face03: read and write 가능\n",
    "face04 = face.copy()        # face04: read and write 가능\n",
    "\n",
    "# 2.1  Red 색상을 모두 0 으로 변경하여 출력한다\n",
    "face01[:,:,0] = 0\n",
    "# face01[face[:,:,0] < 100 ] = 0\n",
    "\n",
    "# 2.2  Green 색상을 모두 0 으로 변경하여 출력한다\n",
    "face02[:,:,1] = 0\n",
    "# face02[face[:,:,1] < 100 ] = 0\n",
    "\n",
    "# 2.3  Blue 색상을 모두 0 으로 변경하여 출력한다\n",
    "face03[:,:,2] = 0\n",
    "# face03[face[:,:,2] < 100 ] = 0\n",
    "\n",
    "# 2.4  Red, Green, Blue 색상 중  100보다 작은 경우\n",
    "# 모두 0 으로 변경하여 출력한다\n",
    "# \n",
    "time_start = time.time()\n",
    "face04[face < 100] = 0      # 0.007996797561645508\n",
    "time_end = time.time()\n",
    "print('elapsed time :',time_end - time_start)\n",
    "\n",
    "# 중첩된 for문 사용하기     # 11.183290719985962\n",
    "time_start = time.time()\n",
    "# xmax = face.shape[0]\n",
    "# ymax = face.shape[1]\n",
    "# zmax = face.shape[2]\n",
    "# for i in range(xmax):\n",
    "#     for j in range(ymax):\n",
    "#         for k in range(zmax):\n",
    "#             if face[i][j][k] < 100:\n",
    "#                 face04[i][j][k] = 0\n",
    "\n",
    "# time_end = time.time()\n",
    "# print('elapsed time :',time_end - time_start)\n",
    "\n",
    "plt.subplot(221)\n",
    "plt.imshow(face01)\n",
    "\n",
    "plt.subplot(222)\n",
    "plt.imshow(face02)\n",
    "\n",
    "plt.subplot(223)\n",
    "plt.imshow(face03)\n",
    "\n",
    "plt.subplot(224)\n",
    "plt.imshow(face04)\n",
    "plt.show()"
   ]
  },
  {
   "cell_type": "markdown",
   "metadata": {},
   "source": [
    "#### 배열 합치기\n",
    "* 수직(v,행)으로 합치기 : vstack(), row_stack(), concatenate(..,axis=0)\n",
    "* 수평(h,열)으로 합치기 : hstack(), column_stack(), concatenate(..,axis=1)"
   ]
  },
  {
   "cell_type": "code",
   "execution_count": 141,
   "metadata": {},
   "outputs": [
    {
     "name": "stdout",
     "output_type": "stream",
     "text": [
      "[[0 1 2]\n",
      " [3 4 5]\n",
      " [6 7 8]]\n",
      "[[ 0  2  4]\n",
      " [ 6  8 10]\n",
      " [12 14 16]]\n",
      "[[ 0  1  2]\n",
      " [ 3  4  5]\n",
      " [ 6  7  8]\n",
      " [ 0  2  4]\n",
      " [ 6  8 10]\n",
      " [12 14 16]] (6, 3)\n",
      "[[ 0  1  2]\n",
      " [ 3  4  5]\n",
      " [ 6  7  8]\n",
      " [ 0  2  4]\n",
      " [ 6  8 10]\n",
      " [12 14 16]] (6, 3)\n",
      "[[ 0  1  2]\n",
      " [ 3  4  5]\n",
      " [ 6  7  8]\n",
      " [ 0  2  4]\n",
      " [ 6  8 10]\n",
      " [12 14 16]] (6, 3)\n"
     ]
    }
   ],
   "source": [
    "# 수직으로 합치기\n",
    "a = np.arange(9).reshape(3,3)\n",
    "b = a*2\n",
    "print(a)\n",
    "print(b)\n",
    "\n",
    "r = np.vstack((a,b))   # 수직\n",
    "print(r,r.shape)\n",
    "\n",
    "c = np.row_stack((a,b))  # 행\n",
    "print(c,c.shape)\n",
    "\n",
    "x = np.concatenate((a,b),axis=0) # axis = 0 , 행\n",
    "print(x,x.shape)"
   ]
  },
  {
   "cell_type": "code",
   "execution_count": 142,
   "metadata": {},
   "outputs": [
    {
     "name": "stdout",
     "output_type": "stream",
     "text": [
      "[[0 1 2]\n",
      " [3 4 5]\n",
      " [6 7 8]]\n",
      "[[ 0  2  4]\n",
      " [ 6  8 10]\n",
      " [12 14 16]]\n",
      "[[ 0  1  2  0  2  4]\n",
      " [ 3  4  5  6  8 10]\n",
      " [ 6  7  8 12 14 16]] (3, 6)\n",
      "[[ 0  1  2  0  2  4]\n",
      " [ 3  4  5  6  8 10]\n",
      " [ 6  7  8 12 14 16]] (3, 6)\n",
      "[[ 0  1  2  0  2  4]\n",
      " [ 3  4  5  6  8 10]\n",
      " [ 6  7  8 12 14 16]] (3, 6)\n"
     ]
    }
   ],
   "source": [
    "# 수평으로 합치기\n",
    "a = np.arange(9).reshape(3,3)\n",
    "b = a*2\n",
    "print(a)\n",
    "print(b)\n",
    "\n",
    "r = np.hstack((a,b))   # 수평\n",
    "print(r,r.shape)\n",
    "\n",
    "c = np.column_stack((a,b))  # 열\n",
    "print(c,c.shape)\n",
    "\n",
    "x = np.concatenate((a,b),axis=1) # axis = 1 , 열\n",
    "print(x,x.shape)"
   ]
  },
  {
   "cell_type": "markdown",
   "metadata": {},
   "source": [
    "### 쪼개기\n",
    "* vsplit(배열,행의 갯수) : 수직, split(배열,행의 갯수,axis = 0)\n",
    "* hsplit(배열,열의 갯수) : 수평, split(배열,행의 갯수,axis = 1)"
   ]
  },
  {
   "cell_type": "code",
   "execution_count": 158,
   "metadata": {},
   "outputs": [
    {
     "name": "stdout",
     "output_type": "stream",
     "text": [
      "[[ 0  1  2]\n",
      " [ 3  4  5]\n",
      " [ 6  7  8]\n",
      " [ 9 10 11]]\n",
      "[array([[0, 1, 2]]), array([[3, 4, 5]]), array([[6, 7, 8]]), array([[ 9, 10, 11]])]\n",
      "[array([[0, 1, 2]]), array([[3, 4, 5]]), array([[6, 7, 8]]), array([[ 9, 10, 11]])]\n",
      "[[ 0  1  2  3]\n",
      " [ 4  5  6  7]\n",
      " [ 8  9 10 11]]\n",
      "[array([[0],\n",
      "       [4],\n",
      "       [8]]), array([[1],\n",
      "       [5],\n",
      "       [9]]), array([[ 2],\n",
      "       [ 6],\n",
      "       [10]]), array([[ 3],\n",
      "       [ 7],\n",
      "       [11]])]\n"
     ]
    }
   ],
   "source": [
    "a = np.arange(12).reshape(4,3)\n",
    "print(a)\n",
    "\n",
    "print(np.vsplit(a,4))\n",
    "print(np.split(a,4,axis=0))\n",
    "\n",
    "a = np.arange(12).reshape(3,4)\n",
    "print(a)\n",
    "\n",
    "print(np.hsplit(a,4))\n",
    "# print(np.split(a,4,axis=1))\n"
   ]
  },
  {
   "cell_type": "markdown",
   "metadata": {},
   "source": [
    "### 배열의 연산: 행렬(matrix)의 연산, 선형대수(Linear Algebra)"
   ]
  },
  {
   "cell_type": "markdown",
   "metadata": {},
   "source": [
    "#### [1] 배열과 상수간의 연산 :  배열 <연산자> 상수, 상수 <연산자> 배열\n",
    "#### 하나의 스칼라와 배열의 연산, 브로드 캐스팅에 해당"
   ]
  },
  {
   "cell_type": "code",
   "execution_count": 174,
   "metadata": {},
   "outputs": [
    {
     "name": "stdout",
     "output_type": "stream",
     "text": [
      "[[ 0  1  2  3]\n",
      " [ 4  5  6  7]\n",
      " [ 8  9 10 11]\n",
      " [12 13 14 15]] (4, 4)\n",
      "[[10 11 12 13]\n",
      " [14 15 16 17]\n",
      " [18 19 20 21]\n",
      " [22 23 24 25]]\n",
      "[[-10  -9  -8  -7]\n",
      " [ -6  -5  -4  -3]\n",
      " [ -2  -1   0   1]\n",
      " [  2   3   4   5]]\n",
      "[[  0  10  20  30]\n",
      " [ 40  50  60  70]\n",
      " [ 80  90 100 110]\n",
      " [120 130 140 150]]\n",
      "[[0.  0.1 0.2 0.3]\n",
      " [0.4 0.5 0.6 0.7]\n",
      " [0.8 0.9 1.  1.1]\n",
      " [1.2 1.3 1.4 1.5]]\n",
      "------------------------------\n",
      "[[10 11 12 13]\n",
      " [14 15 16 17]\n",
      " [18 19 20 21]\n",
      " [22 23 24 25]]\n",
      "[[10  9  8  7]\n",
      " [ 6  5  4  3]\n",
      " [ 2  1  0 -1]\n",
      " [-2 -3 -4 -5]]\n",
      "[[  0  10  20  30]\n",
      " [ 40  50  60  70]\n",
      " [ 80  90 100 110]\n",
      " [120 130 140 150]]\n",
      "[[10.          5.          3.33333333  2.5       ]\n",
      " [ 2.          1.66666667  1.42857143  1.25      ]\n",
      " [ 1.11111111  1.          0.90909091  0.83333333]\n",
      " [ 0.76923077  0.71428571  0.66666667  0.625     ]]\n"
     ]
    }
   ],
   "source": [
    "A = np.arange(16).reshape(4,4)\n",
    "print(A,A.shape)\n",
    "\n",
    "print(A + 10)\n",
    "print(A - 10)\n",
    "print(A * 10)\n",
    "print(A / 10)\n",
    "print('-'*30)\n",
    "print(10 + A)\n",
    "print(10 - A)\n",
    "print(10 * A)\n",
    "print(10 / (A + 1))"
   ]
  },
  {
   "cell_type": "code",
   "execution_count": 170,
   "metadata": {},
   "outputs": [
    {
     "name": "stdout",
     "output_type": "stream",
     "text": [
      "inf\n",
      "nan\n"
     ]
    },
    {
     "name": "stderr",
     "output_type": "stream",
     "text": [
      "C:\\Users\\jg91\\anaconda3\\lib\\site-packages\\ipykernel_launcher.py:5: RuntimeWarning: divide by zero encountered in true_divide\n",
      "  \"\"\"\n",
      "C:\\Users\\jg91\\anaconda3\\lib\\site-packages\\ipykernel_launcher.py:6: RuntimeWarning: invalid value encountered in true_divide\n",
      "  \n"
     ]
    }
   ],
   "source": [
    "# 나누기\n",
    "# print(10/0)  # ZeroDivisionError\n",
    "# print(0/0)  # ZeroDivisionError\n",
    "\n",
    "print(np.divide(10,0))  # inf\n",
    "print(np.divide(0,0))   # nan : not a number"
   ]
  },
  {
   "cell_type": "markdown",
   "metadata": {},
   "source": [
    "### [2] element-wise 연산 : 배열의 요소간의 연산"
   ]
  },
  {
   "cell_type": "code",
   "execution_count": 177,
   "metadata": {},
   "outputs": [
    {
     "name": "stdout",
     "output_type": "stream",
     "text": [
      "[[0 1 2]\n",
      " [3 4 5]\n",
      " [6 7 8]]\n",
      "[[-1  0  1]\n",
      " [ 2  3  4]\n",
      " [ 5  6  7]]\n",
      "[[-1  1  3]\n",
      " [ 5  7  9]\n",
      " [11 13 15]]\n",
      "[[1 1 1]\n",
      " [1 1 1]\n",
      " [1 1 1]]\n",
      "[[ 0  0  2]\n",
      " [ 6 12 20]\n",
      " [30 42 56]]\n",
      "[[-0.                 inf  2.        ]\n",
      " [ 1.5         1.33333333  1.25      ]\n",
      " [ 1.2         1.16666667  1.14285714]]\n"
     ]
    },
    {
     "name": "stderr",
     "output_type": "stream",
     "text": [
      "C:\\Users\\jg91\\anaconda3\\lib\\site-packages\\ipykernel_launcher.py:10: RuntimeWarning: divide by zero encountered in true_divide\n",
      "  # Remove the CWD from sys.path while we load stuff.\n"
     ]
    }
   ],
   "source": [
    "# shape 이 같은 경우\n",
    "A = np.arange(9).reshape(3,3)\n",
    "B = np.arange(9).reshape(3,3) - 1 \n",
    "print(A)\n",
    "print(B)\n",
    "\n",
    "print(A + B)\n",
    "print(A - B)\n",
    "print(A * B)\n",
    "print(A / B)"
   ]
  },
  {
   "cell_type": "markdown",
   "metadata": {},
   "source": [
    "### 브로드 캐스팅 : 차원의 크기가 서로 다른 배열에서 산술연산이 가능"
   ]
  },
  {
   "cell_type": "code",
   "execution_count": 186,
   "metadata": {},
   "outputs": [
    {
     "name": "stdout",
     "output_type": "stream",
     "text": [
      "[[0 1]\n",
      " [2 3]\n",
      " [4 5]]\n",
      "[[1 2]]\n",
      "------------------------------\n",
      "[[1 3]\n",
      " [3 5]\n",
      " [5 7]]\n",
      "[[-1 -1]\n",
      " [ 1  1]\n",
      " [ 3  3]]\n",
      "[[ 0  2]\n",
      " [ 2  6]\n",
      " [ 4 10]]\n",
      "[[0.  0.5]\n",
      " [2.  1.5]\n",
      " [4.  2.5]]\n",
      "------------------------------\n",
      "[[1 3]\n",
      " [3 5]\n",
      " [5 7]]\n",
      "[[ 1  1]\n",
      " [-1 -1]\n",
      " [-3 -3]]\n",
      "[[ 0  2]\n",
      " [ 2  6]\n",
      " [ 4 10]]\n",
      "[[       inf 2.        ]\n",
      " [0.5        0.66666667]\n",
      " [0.25       0.4       ]]\n"
     ]
    },
    {
     "name": "stderr",
     "output_type": "stream",
     "text": [
      "C:\\Users\\jg91\\anaconda3\\lib\\site-packages\\ipykernel_launcher.py:16: RuntimeWarning: divide by zero encountered in true_divide\n",
      "  app.launch_new_instance()\n"
     ]
    }
   ],
   "source": [
    "A = np.arange(6).reshape(3,2) \n",
    "B = np.arange(2).reshape(1,2) + 1\n",
    "print(A)  # (3,2)\n",
    "print(B)  # (1,2)\n",
    "\n",
    "print('-'*30)\n",
    "print(A + B)\n",
    "print(A - B)\n",
    "print(A * B)\n",
    "print(A / B)\n",
    "\n",
    "print('-'*30)\n",
    "print(B + A)\n",
    "print(B - A)\n",
    "print(B * A)\n",
    "print(B / A)"
   ]
  },
  {
   "cell_type": "code",
   "execution_count": 190,
   "metadata": {},
   "outputs": [
    {
     "name": "stdout",
     "output_type": "stream",
     "text": [
      "[[1. 1. 1.]\n",
      " [1. 1. 1.]]\n",
      "[0 1 2]\n",
      "[[1. 2. 3.]\n",
      " [1. 2. 3.]]\n"
     ]
    }
   ],
   "source": [
    "# 브로드 캐스팅 규칙 : 차원과 shape 이 자동 조정\n",
    "# 규칙 1 : 두 배열의 차원 수가 다르면 더 작은 수의 차원을 가진 배열의 shape의\n",
    "#          앞쪽(왼쪽)을 1로 채운다\n",
    "# 규칙 2 : 차원이 같은 두 배열의 shape 이 1인 배열을 다른 배열의 shape과 \n",
    "#          일치하도록 늘인다\n",
    "# 규칙 3 : 임의의 차원에서 크기가 일치하지 않고 1도 아니라면 오류가 발생\n",
    "\n",
    "A = np.ones((2,3))  # (2,3)\n",
    "B = np.arange(3)    # (3,)\n",
    "print(A)\n",
    "print(B)\n",
    "\n",
    "# 규칙 1 적용 : B.shape ==> (1,3)   [[0 1 2]]\n",
    "# 규칙 2 적용 : B.shape ==> (2,3)   [[0 1 2]\n",
    "#                                    [0 1 2]]\n",
    "print(A + B)"
   ]
  },
  {
   "cell_type": "code",
   "execution_count": 192,
   "metadata": {},
   "outputs": [
    {
     "name": "stdout",
     "output_type": "stream",
     "text": [
      "[[1.]\n",
      " [1.]\n",
      " [1.]]\n",
      "[0 1 2]\n",
      "[[1. 2. 3.]\n",
      " [1. 2. 3.]\n",
      " [1. 2. 3.]]\n"
     ]
    }
   ],
   "source": [
    "A = np.ones((3,1))  # (3,1)\n",
    "B = np.arange(3)    # (3,)\n",
    "print(A)\n",
    "print(B)\n",
    "\n",
    "# 규칙 1 적용 : B.shape b ==> (1,3)    [[0 1 2]]\n",
    "# 규칙 2 적용 : B.shape b ==> (3,3)    [[0 1 2]\n",
    "#                                       [0 1 2]\n",
    "#                                       [0 1 2]]\n",
    "# 규칙 2 적용 : A.shape b ==> (3,3)    [[1 1 1]\n",
    "#                                       [1 1 1]\n",
    "#                                       [1 1 1]]           \n",
    "print(A + B)"
   ]
  },
  {
   "cell_type": "code",
   "execution_count": 195,
   "metadata": {},
   "outputs": [
    {
     "name": "stdout",
     "output_type": "stream",
     "text": [
      "[[1. 1.]\n",
      " [1. 1.]\n",
      " [1. 1.]]\n",
      "[0 1 2]\n"
     ]
    }
   ],
   "source": [
    "A = np.ones((3,2))  # (3,2)\n",
    "B = np.arange(3)    # (3,)\n",
    "print(A)\n",
    "print(B)\n",
    "\n",
    "# 규칙 1 적용 : B.shape b ==> (1,3)    [[0 1 2]]\n",
    "# 규칙 2 적용 : B.shape b ==> (3,3)    [[0 1 2]\n",
    "#                                       [0 1 2]\n",
    "#                                       [0 1 2]]\n",
    "# 규칙 3 에 해당하므로 오류 발생\n",
    "# print(A + B) # ValueError"
   ]
  },
  {
   "cell_type": "code",
   "execution_count": null,
   "metadata": {},
   "outputs": [],
   "source": [
    "# 끝쪽 차원부터 비교하면서 앞쪽으로 진행한다\n",
    "# 두 배열의 각 차원에서 shape 이 같거나 shape이 1인경우 브로드캐스팅 가능\n",
    "A  =  (2, 3)\n",
    "B  =     (3,)\n",
    "----------------\n",
    "결과: (2, 3)\n",
    "\n",
    "A  =  (3, 1)\n",
    "B  =     (3,)\n",
    "----------------\n",
    "결과: (3, 3)\n",
    "\n",
    "A  =  (3, 2)\n",
    "B  =     (3,)\n",
    "----------------\n",
    "결과: (3, x)  ==> 오류\n",
    "    \n",
    "A  =  (15, 3, 5)\n",
    "B  =      (3, 1)\n",
    "----------------\n",
    "결과: (15, 3, 5)\n",
    "\n",
    "A  =  (8, 1, 6, 1)\n",
    "B  =     (7, 1, 5)\n",
    "--------------------\n",
    "결과: (8 ,7, 6 ,5)\n",
    "    \n",
    "A  =  (8, 4, 3)\n",
    "B  =     (2, 1)\n",
    "----------------\n",
    "결과: (8, x, 3) ==> 오류   \n",
    "    "
   ]
  },
  {
   "cell_type": "markdown",
   "metadata": {},
   "source": [
    "### [2] dot product: 내적 곱셈 ,행렬(matrix)"
   ]
  },
  {
   "cell_type": "code",
   "execution_count": 199,
   "metadata": {},
   "outputs": [
    {
     "name": "stdout",
     "output_type": "stream",
     "text": [
      "[[1 2 3]\n",
      " [4 5 6]]\n",
      "[[ 7  8]\n",
      " [ 9 10]\n",
      " [11 12]]\n",
      "[[ 58  64]\n",
      " [139 154]]\n"
     ]
    }
   ],
   "source": [
    "A = np.array([[1,2,3],\n",
    "              [4,5,6]])\n",
    "B = np.array([[7,8],\n",
    "              [9,10],\n",
    "              [11,12]])\n",
    "print(A)  # ( 2, 3)\n",
    "print(B)  # ( 3, 2)\n",
    "\n",
    "dot_product = np.dot(A,B)\n",
    "print(dot_product)\n",
    "# print(A*B)  # ValueError ,shape이 다르고 1도 아님, 요소간의 곱셈\n",
    "\n",
    "# (2,3) * (3,2) = (2,2)\n",
    "# (m,n) * ( n,l) = (m,l) # 행렬의 내적 곱셈시 shape 공식, 필수 암기 요망!!\n",
    "\n",
    "# (10,4) * (x,y) = (10,2)  # x = 4, y = 2를 구할 수 있어야한다"
   ]
  },
  {
   "cell_type": "code",
   "execution_count": 205,
   "metadata": {},
   "outputs": [
    {
     "name": "stdout",
     "output_type": "stream",
     "text": [
      "[[1 2 3]\n",
      " [4 5 6]]\n",
      "[[ 7  8]\n",
      " [ 9 10]\n",
      " [11  2]]\n",
      "<class 'numpy.matrix'>\n",
      "[[ 58  34]\n",
      " [139  94]]\n"
     ]
    }
   ],
   "source": [
    "A = np.mat(\"1 2 3;4 5 6\")\n",
    "B = np.mat(\"7 8;9 10;11 2\")\n",
    "print(A)   # (2,3)\n",
    "print(B)   # (3,2)\n",
    "print(type(A))  # <class 'numpy.matrix'>\n",
    "\n",
    "print(A*B)  # dot (내적 곱셈) 연산\n",
    "# (2,3) * (3,2) = (2,2)"
   ]
  },
  {
   "cell_type": "markdown",
   "metadata": {},
   "source": [
    "### 역행렬 구하기"
   ]
  },
  {
   "cell_type": "code",
   "execution_count": 218,
   "metadata": {},
   "outputs": [
    {
     "name": "stdout",
     "output_type": "stream",
     "text": [
      "[[1. 0. 0.]\n",
      " [0. 1. 0.]\n",
      " [0. 0. 1.]]\n",
      "[[ 2  4  6]\n",
      " [ 4  2  6]\n",
      " [10 -4 18]] <class 'numpy.matrix'>\n",
      "[[-0.41666667  0.66666667 -0.08333333]\n",
      " [ 0.08333333  0.16666667 -0.08333333]\n",
      " [ 0.25       -0.33333333  0.08333333]]\n",
      "[[ 1.00000000e+00 -2.22044605e-16  0.00000000e+00]\n",
      " [ 5.55111512e-17  1.00000000e+00  0.00000000e+00]\n",
      " [ 3.88578059e-16 -4.44089210e-16  1.00000000e+00]]\n",
      "[[ 0.00000000e+00 -2.22044605e-16  0.00000000e+00]\n",
      " [ 5.55111512e-17 -4.44089210e-16  0.00000000e+00]\n",
      " [ 3.88578059e-16 -4.44089210e-16  0.00000000e+00]]\n"
     ]
    }
   ],
   "source": [
    "# 행렬 A * A의 역행렬 ==> 단위행렬(항등행렬,대각선으로 1이고 나머지는 0인 행렬)\n",
    "print(np.eye(3))\n",
    "\n",
    "A = np.mat(\"2 4 6;4 2 6;10 -4 18\")\n",
    "print(A,type(A))\n",
    "\n",
    "inverse = np.linalg.inv(A)\n",
    "print(inverse)\n",
    "print(A*inverse)  # 단위 행렬\n",
    "print(A*inverse - np.eye(3)) # 단위행렬 - 단위행렬==> 요소가 모두 0 이된다"
   ]
  },
  {
   "cell_type": "code",
   "execution_count": 222,
   "metadata": {},
   "outputs": [
    {
     "name": "stdout",
     "output_type": "stream",
     "text": [
      "A: [[ 1 -2  1]\n",
      " [ 0  2 -8]\n",
      " [-4  5  9]]\n",
      "[ 0  8 -9]\n"
     ]
    }
   ],
   "source": [
    "## 선형 방정식 풀이 : 선형시스템을 해석\n",
    "A = np.mat(\"1 -2 1;0 2 -8;-4 5 9\")\n",
    "print(\"A:\",A)\n",
    "b = np.array([0,8,-9])\n",
    "print(b)\n",
    "\n",
    "# 연립방정식\n",
    "# 1*x0 - 2*x1 + 1*x2 = 0    # 29 - 32 + 3 = 0\n",
    "# 0*x0 + 2*x1 - 8*x2 = 8\n",
    "# -4*x0 + 5*x1 + 9*x2 = -9"
   ]
  },
  {
   "cell_type": "code",
   "execution_count": 225,
   "metadata": {},
   "outputs": [
    {
     "name": "stdout",
     "output_type": "stream",
     "text": [
      "Solution: [29. 16.  3.]\n",
      "Check\n",
      " [[ 0.  8. -9.]]\n"
     ]
    }
   ],
   "source": [
    "x = np.linalg.solve(A,b)\n",
    "print('Solution:',x)\n",
    "print('Check\\n',np.dot(A,x))\n",
    "\n",
    "# A dot x ==> b\n",
    "# [[ 1 -2  1]         [[29          [[0\n",
    "#  [ 0  2 -8]     dot   16      ==>   8\n",
    "#  [-4  5  9]]          3]]           9]]\n",
    "#  (3,3) * (3,1) ==> (3,1) "
   ]
  },
  {
   "cell_type": "code",
   "execution_count": 227,
   "metadata": {},
   "outputs": [
    {
     "name": "stdout",
     "output_type": "stream",
     "text": [
      "[[29.  11.5  7. ]\n",
      " [16.   6.5  4. ]\n",
      " [ 4.   1.5  1. ]]\n",
      "[[29. 16.  3.]]\n"
     ]
    }
   ],
   "source": [
    "# 역행렬을 사용하여 연립 방정식의 답을 구하기\n",
    "# A dot x ==> b\n",
    "#  x = A의 역행렬 * b\n",
    "inverse = np.linalg.inv(A)\n",
    "print(inverse)\n",
    "x = np.dot(inverse,b)   # (3,3) * (3,1) = (3,1)\n",
    "print(x)"
   ]
  },
  {
   "cell_type": "code",
   "execution_count": 230,
   "metadata": {},
   "outputs": [
    {
     "name": "stdout",
     "output_type": "stream",
     "text": [
      "[0. 0. 0. 0. 0. 0. 0. 0. 0. 0.]\n",
      "[[0. 0. 0. 0.]\n",
      " [0. 0. 0. 0.]\n",
      " [0. 0. 0. 0.]]\n",
      "[1. 1. 1. 1. 1. 1. 1. 1. 1. 1.]\n",
      "[[1. 1. 1. 1.]\n",
      " [1. 1. 1. 1.]\n",
      " [1. 1. 1. 1.]]\n"
     ]
    }
   ],
   "source": [
    "# 기타 연산자 : zeros(), ones()\n",
    "zero_data = np.zeros(10)\n",
    "print(zero_data)\n",
    "\n",
    "zero_data = np.zeros((3,4))\n",
    "print(zero_data)\n",
    "\n",
    "one_data = np.ones(10)\n",
    "print(one_data)\n",
    "\n",
    "one_data = np.ones((3,4))\n",
    "print(one_data)"
   ]
  },
  {
   "cell_type": "code",
   "execution_count": 12,
   "metadata": {},
   "outputs": [
    {
     "name": "stdout",
     "output_type": "stream",
     "text": [
      "[[0.85970689 0.11111075 0.47833904 0.84998003]\n",
      " [0.51473797 0.44660783 0.80047642 0.02039138]\n",
      " [0.57261865 0.41138362 0.9851368  0.80140153]]\n",
      "[[5 3 4 0]\n",
      " [2 2 1 1]\n",
      " [7 1 7 2]]\n",
      "[[-0.29673933  0.69675408  0.05404728 -0.84408314]\n",
      " [ 0.74820756  0.30623359  0.80136392  0.9884962 ]\n",
      " [ 1.01137769  0.76252192 -0.06984125  0.26233548]]\n"
     ]
    }
   ],
   "source": [
    "# numpy 난수 발생\n",
    "# rand() : 실수\n",
    "# randint() : 정수\n",
    "# randn() : 실수, 정규 분포(standard normal distribution)\n",
    "\n",
    "# np.random.seed(5)  # 난수의 씨앗\n",
    "print(np.random.rand(3,4)) # 값이 0 ~ 1 사이, shape (3,4)\n",
    "print(np.random.randint(10,size=(3,4))) # 값이 0 ~ 10 사이, shape (3,4)\n",
    "print(np.random.randn(3,4)) # 정규 분포, 값이 0 ~ 1 사이, shape (3,4)"
   ]
  }
 ],
 "metadata": {
  "kernelspec": {
   "display_name": "Python 3",
   "language": "python",
   "name": "python3"
  },
  "language_info": {
   "codemirror_mode": {
    "name": "ipython",
    "version": 3
   },
   "file_extension": ".py",
   "mimetype": "text/x-python",
   "name": "python",
   "nbconvert_exporter": "python",
   "pygments_lexer": "ipython3",
   "version": "3.7.6"
  }
 },
 "nbformat": 4,
 "nbformat_minor": 2
}
