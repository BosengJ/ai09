{
 "cells": [
  {
   "cell_type": "markdown",
   "metadata": {},
   "source": [
    "### 모듈\n",
    "#### : 함수나 변수 또는 클래스를 모아놓은 소스 파일"
   ]
  },
  {
   "cell_type": "code",
   "execution_count": 8,
   "metadata": {},
   "outputs": [],
   "source": [
    "# # 함수 정의\n",
    "# def add(a,b):\n",
    "#     c = a + b\n",
    "#     print('add called!')\n",
    "#     return c\n",
    "\n",
    "# def subtract(a,b):\n",
    "#     c = a - b\n",
    "#     print('subtract called!')\n",
    "#     return c\n",
    "\n",
    "# def multiply(a,b):\n",
    "#     c = a * b\n",
    "#     print('multiply called!')\n",
    "#     return c\n",
    "\n",
    "# def divide(a,b):\n",
    "#     c = a / b\n",
    "#     print('divide called')\n",
    "#     return c\n",
    "\n",
    "# if __name__ == '__main__':\n",
    "#     ret = add(10,20)\n",
    "#     print(ret)\n",
    "\n",
    "#     ret = subtract(10,20)\n",
    "#     print(ret)"
   ]
  },
  {
   "cell_type": "code",
   "execution_count": 3,
   "metadata": {},
   "outputs": [
    {
     "name": "stdout",
     "output_type": "stream",
     "text": [
      "__main__\n",
      "add called!\n",
      "30\n",
      "subtract called!\n",
      "5\n"
     ]
    }
   ],
   "source": [
    "# 외부 모듈을 import\n",
    "import calculator as cl  # calculator 모듈을 가져옴, 이름을 cl로 접근 가능하게 함\n",
    "# print(__name__)\n",
    "\n",
    "if __name__ == '__main__':\n",
    "    ret = cl.add(10,20)\n",
    "    print(ret)\n",
    "\n",
    "    ret = cl.subtract(10,5)\n",
    "    print(ret)"
   ]
  },
  {
   "cell_type": "code",
   "execution_count": 11,
   "metadata": {},
   "outputs": [
    {
     "name": "stdout",
     "output_type": "stream",
     "text": [
      "add called!\n"
     ]
    },
    {
     "data": {
      "text/plain": [
       "30"
      ]
     },
     "execution_count": 11,
     "metadata": {},
     "output_type": "execute_result"
    }
   ],
   "source": [
    "# 패키지에서 일부 함수나 클래스를 가져오는 경우 \n",
    "from calculator import add\n",
    "from calculator import add,subtract\n",
    "from calculator import *\n",
    "\n",
    "add(10,20)"
   ]
  },
  {
   "cell_type": "code",
   "execution_count": null,
   "metadata": {},
   "outputs": [],
   "source": [
    "# first.py (import second),  second.py ,   third.py\n",
    ">> Python first.py     # __name__ 은 '__main__' , second.py의 __name__은 'second'\n",
    ">> Python second.py    # second.py의 __name__은 '__main__'"
   ]
  }
 ],
 "metadata": {
  "kernelspec": {
   "display_name": "Python 3",
   "language": "python",
   "name": "python3"
  },
  "language_info": {
   "codemirror_mode": {
    "name": "ipython",
    "version": 3
   },
   "file_extension": ".py",
   "mimetype": "text/x-python",
   "name": "python",
   "nbconvert_exporter": "python",
   "pygments_lexer": "ipython3",
   "version": "3.7.6"
  }
 },
 "nbformat": 4,
 "nbformat_minor": 4
}
