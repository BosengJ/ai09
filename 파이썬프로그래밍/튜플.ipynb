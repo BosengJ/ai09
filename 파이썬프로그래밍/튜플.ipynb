{
 "cells": [
  {
   "cell_type": "markdown",
   "metadata": {},
   "source": [
    "### 튜플(tuple) : 불변형(immutable), 시퀀스형, ( ):소괄호 사용"
   ]
  },
  {
   "cell_type": "code",
   "execution_count": 15,
   "metadata": {},
   "outputs": [
    {
     "name": "stdout",
     "output_type": "stream",
     "text": [
      "(1, 2, 3, 4, 5, 6)\n",
      "<class 'tuple'>\n"
     ]
    }
   ],
   "source": [
    "a = (1,2,3,4,5,6)\n",
    "print(a)\n",
    "print(type(a))"
   ]
  },
  {
   "cell_type": "code",
   "execution_count": 16,
   "metadata": {},
   "outputs": [
    {
     "name": "stdout",
     "output_type": "stream",
     "text": [
      "1 2 3 6 5\n"
     ]
    }
   ],
   "source": [
    "# indexing\n",
    "print(a[0],a[1],a[2],a[-1],a[-2])\n",
    "\n",
    "# a[0] = 10  # TypeError "
   ]
  },
  {
   "cell_type": "code",
   "execution_count": 17,
   "metadata": {},
   "outputs": [
    {
     "data": {
      "text/plain": [
       "(1, 200, 3, 4, 5, 6)"
      ]
     },
     "execution_count": 17,
     "metadata": {},
     "output_type": "execute_result"
    }
   ],
   "source": [
    "b = list(a)\n",
    "b[1] = 200\n",
    "b = tuple(b)\n",
    "b"
   ]
  },
  {
   "cell_type": "code",
   "execution_count": 22,
   "metadata": {},
   "outputs": [
    {
     "name": "stdout",
     "output_type": "stream",
     "text": [
      "(1, 2, 3, 4, 5, 6)\n",
      "(1, 3, 5)\n",
      "(6, 5, 4, 3, 2, 1)\n"
     ]
    }
   ],
   "source": [
    "# slicing\n",
    "print(a[:])\n",
    "print(a[::2])\n",
    "print(a[::-1])  # 순서를 거꾸로 변경\n",
    "\n",
    "# a[0:3] = (10,20,30)  # TypeError"
   ]
  },
  {
   "cell_type": "code",
   "execution_count": 34,
   "metadata": {},
   "outputs": [
    {
     "name": "stdout",
     "output_type": "stream",
     "text": [
      "<class 'tuple'>\n",
      "1 2 hello\n",
      "<class 'int'>\n"
     ]
    }
   ],
   "source": [
    "# 패킹(packing),언패킹 튜플\n",
    "t = 1,2,'hello'   # 괄호 생략이 가능, 쉼표로 데이터가 구분되어 있으면 튜플, 패킹\n",
    "print(type(t))\n",
    "x,y,z = t    # 언패킹\n",
    "print(x,y,z)\n",
    "print(type(x))"
   ]
  },
  {
   "cell_type": "code",
   "execution_count": 30,
   "metadata": {},
   "outputs": [
    {
     "name": "stdout",
     "output_type": "stream",
     "text": [
      "10 20 hi\n"
     ]
    }
   ],
   "source": [
    "a,b,c = a,20,'hi'     # 언패킹\n",
    "print(a,b,c)"
   ]
  },
  {
   "cell_type": "code",
   "execution_count": 52,
   "metadata": {},
   "outputs": [
    {
     "name": "stdout",
     "output_type": "stream",
     "text": [
      "1 2 4 7\n",
      "1\n",
      "[2, 3, 4, 5, 6, 7]\n",
      "[1, 2, 3, 4, 5, 6]\n",
      "7\n",
      "1 2 [3, 4, 5, 6, 7]\n",
      "1 [2, 3, 4, 5, 6] 7\n"
     ]
    }
   ],
   "source": [
    "t = (1,2,3,4,5,6,7)\n",
    "# a,b = t   # ValueError\n",
    "a,b,_,c,_,_,d = t  # 언패킹될 요소의 갯수를 일치시켜야한다, '_':사용하지 않을 요소\n",
    "print(a,b,c,d)\n",
    "\n",
    "# 확장된 언팩킹\n",
    "a,*b = t\n",
    "print(a)   # 첫번째 요소\n",
    "print(b)   # 나머지 요소를 모두 리스트로 할당\n",
    "\n",
    "*a,b = t\n",
    "print(a)   # 나머지 요소를 모두 리스트로 할당\n",
    "print(b)   # 마지막 요소\n",
    "\n",
    "a,b,*c = t\n",
    "print(a,b,c)\n",
    "\n",
    "a,*b,c = t\n",
    "print(a,b,c)\n",
    "\n",
    "# a,*b,*c = t  # SyntaxError"
   ]
  },
  {
   "cell_type": "code",
   "execution_count": 57,
   "metadata": {},
   "outputs": [
    {
     "name": "stdout",
     "output_type": "stream",
     "text": [
      "<class 'int'>\n",
      "<class 'tuple'>\n",
      "<class 'int'>\n",
      "<class 'tuple'>\n",
      "10\n"
     ]
    },
    {
     "data": {
      "text/plain": [
       "list"
      ]
     },
     "execution_count": 57,
     "metadata": {},
     "output_type": "execute_result"
    }
   ],
   "source": [
    "t = ()  # 빈튜플\n",
    "l = []  # 빈리스트\n",
    "\n",
    "t = (10)   # int형\n",
    "print(type(t))\n",
    "\n",
    "t = (10,)  # tuple\n",
    "print(type(t))\n",
    "\n",
    "t = 10\n",
    "print(type(t))\n",
    "\n",
    "t = 10,\n",
    "print(type(t))\n",
    "print(t[0])\n",
    "\n",
    "l = [10]      # list\n",
    "print(type(l))"
   ]
  },
  {
   "cell_type": "code",
   "execution_count": 60,
   "metadata": {},
   "outputs": [
    {
     "name": "stdout",
     "output_type": "stream",
     "text": [
      "1 2\n",
      "h i\n",
      "h\n",
      "['e', 'l', 'l', 'o']\n"
     ]
    }
   ],
   "source": [
    "# 리스트와 문자열도 언패킹과 확장 언패킹\n",
    "a,b = [1,2]\n",
    "print(a,b)\n",
    "\n",
    "a,b ='hi'\n",
    "print(a,b)\n",
    "\n",
    "a,*b = 'hello'\n",
    "print(a)\n",
    "print(b)  # 나머지 요소를 모두 리스트로 할당"
   ]
  },
  {
   "cell_type": "code",
   "execution_count": 62,
   "metadata": {},
   "outputs": [
    {
     "name": "stdout",
     "output_type": "stream",
     "text": [
      "2 1\n",
      "2 1\n"
     ]
    }
   ],
   "source": [
    "# 두 개의 값을 서로 변경하는 코드\n",
    "# x : 1 , y : 2\n",
    "\n",
    "# (1) 전통 언어 방식\n",
    "x = 1\n",
    "y = 2\n",
    "temp = x\n",
    "x = y\n",
    "y = temp\n",
    "print(x,y)\n",
    "\n",
    "# (2) 파이썬 방식 (튜플의 언패킹사용)\n",
    "x,y = 1,2\n",
    "x,y = y,x\n",
    "print(x,y)"
   ]
  },
  {
   "cell_type": "code",
   "execution_count": 67,
   "metadata": {},
   "outputs": [
    {
     "name": "stdout",
     "output_type": "stream",
     "text": [
      "(1, 2, 3, 'apple', 'banana')\n",
      "(1, 2, 3, 'apple', 'banana')\n",
      "(1, 2, 3, 'apple', 'banana', 1, 2, 3, 'apple', 'banana', 1, 2, 3, 'apple', 'banana')\n",
      "6\n",
      "3\n"
     ]
    }
   ],
   "source": [
    "# 연산자\n",
    "t1 = (1,2,3)\n",
    "t2 = ('apple','banana')\n",
    "t3 = t1 + t2\n",
    "print(t3)\n",
    "\n",
    "t3 = t1.__add__(t2)\n",
    "print(t3)\n",
    "\n",
    "t4 = t3*3\n",
    "print(t4)\n",
    "\n",
    "print(sum(t1))\n",
    "print(len(t1))"
   ]
  },
  {
   "cell_type": "code",
   "execution_count": 68,
   "metadata": {},
   "outputs": [
    {
     "data": {
      "text/plain": [
       "3"
      ]
     },
     "execution_count": 68,
     "metadata": {},
     "output_type": "execute_result"
    }
   ],
   "source": [
    "t = (1,2,3,4,2,2,3)\n",
    "t.count(2)  # 요소의 갯수"
   ]
  },
  {
   "cell_type": "code",
   "execution_count": 70,
   "metadata": {},
   "outputs": [
    {
     "name": "stdout",
     "output_type": "stream",
     "text": [
      "1\n",
      "4\n"
     ]
    }
   ],
   "source": [
    "print(t.index(2))   #요소 2 가  처음 나오는 위치(인덱스)를 반환\n",
    "print(t.index(2,3)) #요소 2 를 인덱스 3 이후부터 나오는 위치(인덱스)를 반환"
   ]
  },
  {
   "cell_type": "code",
   "execution_count": 75,
   "metadata": {},
   "outputs": [
    {
     "data": {
      "text/plain": [
       "10"
      ]
     },
     "execution_count": 75,
     "metadata": {},
     "output_type": "execute_result"
    }
   ],
   "source": [
    "# del t[0]   # TypeError\n"
   ]
  },
  {
   "cell_type": "code",
   "execution_count": null,
   "metadata": {},
   "outputs": [],
   "source": []
  }
 ],
 "metadata": {
  "kernelspec": {
   "display_name": "Python 3",
   "language": "python",
   "name": "python3"
  },
  "language_info": {
   "codemirror_mode": {
    "name": "ipython",
    "version": 3
   },
   "file_extension": ".py",
   "mimetype": "text/x-python",
   "name": "python",
   "nbconvert_exporter": "python",
   "pygments_lexer": "ipython3",
   "version": "3.7.6"
  }
 },
 "nbformat": 4,
 "nbformat_minor": 4
}
