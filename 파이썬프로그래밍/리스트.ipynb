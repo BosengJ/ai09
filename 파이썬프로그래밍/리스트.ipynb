{
 "cells": [
  {
   "cell_type": "markdown",
   "metadata": {},
   "source": [
    "#### 리스트(list) : 가변형(mutable), 시퀀스, 가장 유용한 자료형, [ ] :대괄호, 중복 허용"
   ]
  },
  {
   "cell_type": "code",
   "execution_count": 1,
   "metadata": {},
   "outputs": [
    {
     "name": "stdout",
     "output_type": "stream",
     "text": [
      "[1, 2, 3, 4, 5, 6]\n",
      "<class 'list'>\n",
      "['a', 'hello', 1, 3.5, [1, 2, 3, 4, 5, 6], 3.5, 1]\n"
     ]
    }
   ],
   "source": [
    "a = [1,2,3,4,5,6]\n",
    "print(a)\n",
    "print(type(a))\n",
    "\n",
    "b = ['a','hello',1,3.5,a,3.5,1]\n",
    "print(b)"
   ]
  },
  {
   "cell_type": "code",
   "execution_count": 2,
   "metadata": {},
   "outputs": [
    {
     "name": "stdout",
     "output_type": "stream",
     "text": [
      "1 2 3 6 5 2\n",
      "[10, 2, 3, 4, 5, 6]\n",
      "['hi', 0, 0, 0, 0]\n"
     ]
    }
   ],
   "source": [
    "# 인덱싱\n",
    "a = [1,2,3,4,5,6]\n",
    "print(a[0],a[1],a[2],a[-1],a[-2],a[True])\n",
    "\n",
    "a[0] = 10     # 가변형이므로 요소 변경이 가능하다\n",
    "print(a)\n",
    "\n",
    "a = [0,0,0,0,0]\n",
    "a[0] = 'hi'\n",
    "print(a)"
   ]
  },
  {
   "cell_type": "code",
   "execution_count": 3,
   "metadata": {},
   "outputs": [
    {
     "name": "stdout",
     "output_type": "stream",
     "text": [
      "[1, 2, 3, 4, 5, 6]\n",
      "[2]\n",
      "2\n",
      "[1, 4]\n",
      "[6, 5, 4, 3, 2, 1]\n",
      "[1, 8, 9, 10, 4, 5, 6]\n"
     ]
    }
   ],
   "source": [
    "# 슬라이싱 : a[start:end + 1:step]   \n",
    "a = [1,2,3,4,5,6]\n",
    "print(a[:])\n",
    "print(a[1:2])\n",
    "print(a[1])\n",
    "print(a[::3])  # step 을 3으로\n",
    "print(a[::-1]) # 요소의 순서를 거꾸로 변경한다\n",
    "\n",
    "a[1:3] = [8,9,10]   # 가변형이므로 요소 변경이 가능하다\n",
    "print(a)"
   ]
  },
  {
   "cell_type": "code",
   "execution_count": 4,
   "metadata": {},
   "outputs": [
    {
     "name": "stdout",
     "output_type": "stream",
     "text": [
      "[0, 1, 2, 3, 4, 5, 6, 7, 8, 9]\n",
      "[0, 1, 2, 3, 4, 5, 6, 7, 8, 9]\n",
      "[0, 1, 2, 3, 4, 5, 6, 7, 8, 9]\n",
      "[-10, -8, -6, -4, -2, 0, 2, 4, 6, 8, 10]\n"
     ]
    }
   ],
   "source": [
    "# range(start,end + 1,step)\n",
    "print(list(range(0,10,1)))\n",
    "print(list(range(10)))\n",
    "print(list(range(0,10)))\n",
    "\n",
    "print(list(range(-10,11,2)))"
   ]
  },
  {
   "cell_type": "code",
   "execution_count": 5,
   "metadata": {},
   "outputs": [
    {
     "name": "stdout",
     "output_type": "stream",
     "text": [
      "10\n",
      "55\n",
      "1\n",
      "10\n"
     ]
    }
   ],
   "source": [
    "a = [1,2,3,4,5,6,7,8,9,10]\n",
    "print(len(a))  # 요소의 갯수, byte size가 아니다\n",
    "print(sum(a))  # 요소의 합\n",
    "print(min(a))  # 최소값\n",
    "print(max(a))  # 최소값"
   ]
  },
  {
   "cell_type": "code",
   "execution_count": 6,
   "metadata": {},
   "outputs": [
    {
     "name": "stdout",
     "output_type": "stream",
     "text": [
      "[1, 2, 3, 3, 4, 5]\n"
     ]
    }
   ],
   "source": [
    "# 연산자\n",
    "a = [1,2,3]\n",
    "b = [3,4,5]\n",
    "c = a + b\n",
    "print(c)"
   ]
  },
  {
   "cell_type": "code",
   "execution_count": 7,
   "metadata": {},
   "outputs": [
    {
     "name": "stdout",
     "output_type": "stream",
     "text": [
      "True\n",
      "False\n",
      "[4, 5]\n"
     ]
    }
   ],
   "source": [
    "print(3 in a)  # 리스트 a내에 요소 3이 들어 있는가\n",
    "print(4 in a)\n",
    "\n",
    "del b[0]   # 가변형이므로 요소 객체를 삭제, 원본이 변경됨\n",
    "print(b)"
   ]
  },
  {
   "cell_type": "code",
   "execution_count": 8,
   "metadata": {},
   "outputs": [
    {
     "name": "stdout",
     "output_type": "stream",
     "text": [
      "[1, 2, 3, 4]\n",
      "None\n",
      "[1, 2, 3, 4, [5, 6]]\n"
     ]
    }
   ],
   "source": [
    "# 추가\n",
    "a = [1,2,3]\n",
    "b = a.append(4)  \n",
    "print(a)     # 원본이 변경\n",
    "print(b)     # None : 데이터 타입이 정해지지 않은 객체\n",
    "\n",
    "a.append([5,6]) # 리스트를 요소 추가\n",
    "print(a)"
   ]
  },
  {
   "cell_type": "code",
   "execution_count": 9,
   "metadata": {},
   "outputs": [
    {
     "name": "stdout",
     "output_type": "stream",
     "text": [
      "[]\n",
      "[0, 1, 2, 3, 4, 5, 6, 7, 8, 9]\n"
     ]
    }
   ],
   "source": [
    "a = []  # 빈 리스트\n",
    "print(a)\n",
    "# a[0] = 0  # error!!\n",
    "for k in range(10):\n",
    "    a.append(k)\n",
    "print(a)"
   ]
  },
  {
   "cell_type": "code",
   "execution_count": 10,
   "metadata": {},
   "outputs": [
    {
     "data": {
      "text/plain": [
       "[1, 1.5, 2, 3]"
      ]
     },
     "execution_count": 10,
     "metadata": {},
     "output_type": "execute_result"
    }
   ],
   "source": [
    "# 삽입\n",
    "# insert(인덱스,데이터)\n",
    "a = [1,2,3]\n",
    "a.insert(1,1.5)\n",
    "a"
   ]
  },
  {
   "cell_type": "code",
   "execution_count": 11,
   "metadata": {},
   "outputs": [],
   "source": [
    "a = [] \n",
    "a.insert(1,1.5)\n",
    "a.insert(1,2.5)\n",
    "a.insert(10,1.5)"
   ]
  },
  {
   "cell_type": "code",
   "execution_count": 12,
   "metadata": {},
   "outputs": [
    {
     "name": "stdout",
     "output_type": "stream",
     "text": [
      "[1, 2, 4, 5, [6, 7]]\n",
      "[1, 2, 4, 5]\n"
     ]
    }
   ],
   "source": [
    "# 제거\n",
    "a = [1,2,3.5,4,5,[6,7]] \n",
    "a.remove(3.5)  # 원하는 요소를 제거\n",
    "print(a)\n",
    "a.remove([6,7])\n",
    "print(a)"
   ]
  },
  {
   "cell_type": "code",
   "execution_count": 13,
   "metadata": {},
   "outputs": [
    {
     "name": "stdout",
     "output_type": "stream",
     "text": [
      "[1, 2, 4]\n",
      "[1, 2]\n",
      "[1]\n"
     ]
    }
   ],
   "source": [
    "a.pop()  # 마지막 요소를 제거\n",
    "print(a)\n",
    "a.pop()  # 마지막 요소를 제거\n",
    "print(a)\n",
    "a.pop(1) # 인덱스를 넣어 삭제 , 1번 요소를 삭제, del a[1]\n",
    "print(a)"
   ]
  },
  {
   "cell_type": "code",
   "execution_count": 14,
   "metadata": {},
   "outputs": [
    {
     "name": "stdout",
     "output_type": "stream",
     "text": [
      "[1, 5, 2, 4, 3]\n",
      "[1, 2, 3, 4, 5]\n",
      "[5, 4, 3, 2, 1]\n"
     ]
    }
   ],
   "source": [
    "# 정렬\n",
    "a = [1,5,2,4,3]\n",
    "print(a)\n",
    "a.sort()    # 오름 차순\n",
    "print(a)\n",
    "\n",
    "a.sort(reverse=True)  # 내림 차순\n",
    "print(a)"
   ]
  },
  {
   "cell_type": "code",
   "execution_count": 15,
   "metadata": {},
   "outputs": [
    {
     "name": "stdout",
     "output_type": "stream",
     "text": [
      "0\n"
     ]
    },
    {
     "data": {
      "text/plain": [
       "False"
      ]
     },
     "execution_count": 15,
     "metadata": {},
     "output_type": "execute_result"
    }
   ],
   "source": [
    "print(a.index(5))\n",
    "# a.index(6)  # ValueError \n",
    "6 in a"
   ]
  },
  {
   "cell_type": "code",
   "execution_count": 16,
   "metadata": {},
   "outputs": [
    {
     "name": "stdout",
     "output_type": "stream",
     "text": [
      "[5, 4, 3, 2, 1]\n"
     ]
    },
    {
     "data": {
      "text/plain": [
       "[1, 2, 3, 4, 5]"
      ]
     },
     "execution_count": 16,
     "metadata": {},
     "output_type": "execute_result"
    }
   ],
   "source": [
    "print(a)\n",
    "a.reverse()\n",
    "a"
   ]
  },
  {
   "cell_type": "code",
   "execution_count": 17,
   "metadata": {},
   "outputs": [
    {
     "data": {
      "text/plain": [
       "[1, 2, 3, 4, 5, 6]"
      ]
     },
     "execution_count": 17,
     "metadata": {},
     "output_type": "execute_result"
    }
   ],
   "source": [
    "a = [1,2,3]\n",
    "b = [4,5,6]\n",
    "a.extend(b)    # a = a + b\n",
    "a"
   ]
  },
  {
   "cell_type": "code",
   "execution_count": 18,
   "metadata": {},
   "outputs": [
    {
     "name": "stdout",
     "output_type": "stream",
     "text": [
      "[5, 6, 7, 'hello']\n",
      "6\n",
      "hello\n",
      "h\n",
      "h\n",
      "4\n"
     ]
    },
    {
     "data": {
      "text/plain": [
       "2"
      ]
     },
     "execution_count": 18,
     "metadata": {},
     "output_type": "execute_result"
    }
   ],
   "source": [
    "# 중첩(Nested) 리스트 : 리스트안에 또 다른  리스트가 포함됨\n",
    "a = [1,2,3,4,[5,6,7,\"hello\"]]\n",
    "print(a[4])\n",
    "print(a[4][1])\n",
    "print(a[4][3])\n",
    "print(a[4][3][0])\n",
    "print(\"hello\"[0])\n",
    "print([1,2,3,4][3])\n",
    "a[a[[0,1,2,[1,2,3,4,[0,1,2]]][3][4][:-1][0]]]  # 복잡한 표현도 분해해서 해석"
   ]
  },
  {
   "cell_type": "code",
   "execution_count": 19,
   "metadata": {},
   "outputs": [
    {
     "name": "stdout",
     "output_type": "stream",
     "text": [
      "0\n",
      "2\n",
      "4\n",
      "6\n",
      "8\n",
      "10\n",
      "30\n",
      "[6, 8, 10]\n"
     ]
    }
   ],
   "source": [
    "# for문 , if문 사용\n",
    "# from 0 to 10 짝수의 합\n",
    "# sum(list(range(0,11,2)))\n",
    "total = 0\n",
    "a = []\n",
    "for k in range(0,11,2):   # 전통적인 스타일\n",
    "    print(k)\n",
    "    if k > 4:\n",
    "        a.append(k)\n",
    "    total += k   # total = total + k\n",
    "print(total)\n",
    "print(a)"
   ]
  },
  {
   "cell_type": "code",
   "execution_count": 20,
   "metadata": {},
   "outputs": [
    {
     "name": "stdout",
     "output_type": "stream",
     "text": [
      "[0, 2, 4, 6, 8, 10]\n"
     ]
    },
    {
     "data": {
      "text/plain": [
       "[0, 1, 2, 3, 4, 5, 6, 7, 8, 9]"
      ]
     },
     "execution_count": 20,
     "metadata": {},
     "output_type": "execute_result"
    }
   ],
   "source": [
    "# 리스트 내장(List Comprehension) : 파이썬 스타일(pythonic), 필수 암기\n",
    "a = [k for k in range(0,11,2)]\n",
    "print(a)\n",
    "\n",
    "b = [k for k in range(10)]\n",
    "b"
   ]
  },
  {
   "cell_type": "code",
   "execution_count": 21,
   "metadata": {},
   "outputs": [
    {
     "name": "stdout",
     "output_type": "stream",
     "text": [
      "[0, 1, 2, 3, 4, 5, 6, 7, 8, 9]\n",
      "[5, 6, 7, 8, 9]\n"
     ]
    }
   ],
   "source": [
    "a = list(range(10))\n",
    "print(a)\n",
    "b = [k for k in a if k > 4] # 조건식이 포함된 리스트 내장\n",
    "print(b)"
   ]
  },
  {
   "cell_type": "code",
   "execution_count": 22,
   "metadata": {},
   "outputs": [
    {
     "data": {
      "text/plain": [
       "[0, 3, 6, 9]"
      ]
     },
     "execution_count": 22,
     "metadata": {},
     "output_type": "execute_result"
    }
   ],
   "source": [
    "c = [k for k in a if k%3 == 0]  # 3의 배수로만 리스트 생성\n",
    "c"
   ]
  },
  {
   "cell_type": "code",
   "execution_count": 23,
   "metadata": {},
   "outputs": [
    {
     "data": {
      "text/plain": [
       "[1, 2, 4, 5, 7, 8]"
      ]
     },
     "execution_count": 23,
     "metadata": {},
     "output_type": "execute_result"
    }
   ],
   "source": [
    "c = [k for k in a if k%3 != 0]  # 3의 배수가 아닌수로 리스트 생성\n",
    "c"
   ]
  },
  {
   "cell_type": "code",
   "execution_count": 24,
   "metadata": {},
   "outputs": [
    {
     "data": {
      "text/plain": [
       "[6, 9]"
      ]
     },
     "execution_count": 24,
     "metadata": {},
     "output_type": "execute_result"
    }
   ],
   "source": [
    "c = [k for k in a if (k%3 == 0) and (k > 4)] # 3의 배수이고 4보다 큰수로 리스트생성\n",
    "c"
   ]
  },
  {
   "cell_type": "code",
   "execution_count": null,
   "metadata": {},
   "outputs": [],
   "source": [
    "input()"
   ]
  },
  {
   "cell_type": "code",
   "execution_count": null,
   "metadata": {},
   "outputs": [],
   "source": []
  },
  {
   "cell_type": "code",
   "execution_count": null,
   "metadata": {},
   "outputs": [],
   "source": []
  }
 ],
 "metadata": {
  "kernelspec": {
   "display_name": "Python 3",
   "language": "python",
   "name": "python3"
  },
  "language_info": {
   "codemirror_mode": {
    "name": "ipython",
    "version": 3
   },
   "file_extension": ".py",
   "mimetype": "text/x-python",
   "name": "python",
   "nbconvert_exporter": "python",
   "pygments_lexer": "ipython3",
   "version": "3.7.6"
  }
 },
 "nbformat": 4,
 "nbformat_minor": 4
}
