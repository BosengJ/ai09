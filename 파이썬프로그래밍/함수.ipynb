{
 "cells": [
  {
   "cell_type": "markdown",
   "metadata": {},
   "source": [
    "### 함수(function)"
   ]
  },
  {
   "cell_type": "code",
   "execution_count": 3,
   "metadata": {},
   "outputs": [],
   "source": [
    "# 함수 구현 방법\n",
    "'''\n",
    "def 함수명(매개변수,.....):\n",
    "    <수행할 문장1>\n",
    "    <수행할 문장2>\n",
    "    <수행할 문장3>\n",
    "    ..\n",
    "    return 반환할값\n",
    "'''"
   ]
  },
  {
   "cell_type": "code",
   "execution_count": 18,
   "metadata": {},
   "outputs": [
    {
     "name": "stdout",
     "output_type": "stream",
     "text": [
      "<class 'function'>\n",
      "add called!\n",
      "30\n",
      "subtract called!\n",
      "-10\n",
      "multiply called!\n",
      "200\n",
      "divide called\n",
      "0.5\n",
      "add called!\n",
      "7\n",
      "add called!\n",
      "GoodMorning\n",
      "add called!\n",
      "[1, 2, 3, 4, 5, 6]\n"
     ]
    }
   ],
   "source": [
    "# 함수 정의\n",
    "def add(a,b):\n",
    "    c = a + b\n",
    "    print('add called!')\n",
    "    return c\n",
    "\n",
    "def subtract(a,b):\n",
    "    c = a - b\n",
    "    print('subtract called!')\n",
    "    return c\n",
    "\n",
    "def multiply(a,b):\n",
    "    c = a * b\n",
    "    print('multiply called!')\n",
    "    return c\n",
    "\n",
    "def divide(a,b):\n",
    "    c = a / b\n",
    "    print('divide called')\n",
    "    return c\n",
    "\n",
    "\n",
    "# 함수 호출\n",
    "print(type(add))  # <class 'function'>\n",
    "\n",
    "ret = add(10,20)\n",
    "print(ret)\n",
    "\n",
    "ret = subtract(10,20)\n",
    "print(ret)\n",
    "\n",
    "ret = multiply(10,20)\n",
    "print(ret)\n",
    "\n",
    "ret = divide(10,20)\n",
    "print(ret)\n",
    "\n",
    "print(add(3,4))\n",
    "print(add('Good','Morning'))\n",
    "print(add([1,2,3],[4,5,6]))"
   ]
  },
  {
   "cell_type": "code",
   "execution_count": 19,
   "metadata": {},
   "outputs": [],
   "source": [
    "# 수학 함수\n",
    "# f(x) = 10*x + 1   \n",
    "# f(2) = 10*2 + 1 = 21\n",
    "# f(a,b) = a + b\n",
    "# f(10,20) = 10 + 20 = 30"
   ]
  },
  {
   "cell_type": "markdown",
   "metadata": {},
   "source": [
    "### 함수 구현 순서\n",
    "#### (1) def 를 사용하고 함수이름을 결정\n",
    "#### (2) 매개변수(인자)를 결정\n",
    "#### (3) 인자를 사용하여 처리하는 코드를 구현\n",
    "#### (4) return 을 사용하여 결과값을 반환\n",
    "#### (5) 인자를 설정하여 함수를 호출하여 결과를 확인"
   ]
  },
  {
   "cell_type": "code",
   "execution_count": null,
   "metadata": {},
   "outputs": [],
   "source": [
    "# 함수의 유형 4가지\n",
    "# [1] 반환값이 없고 인자도 없는 경우"
   ]
  },
  {
   "cell_type": "code",
   "execution_count": null,
   "metadata": {},
   "outputs": [],
   "source": []
  }
 ],
 "metadata": {
  "kernelspec": {
   "display_name": "Python 3",
   "language": "python",
   "name": "python3"
  },
  "language_info": {
   "codemirror_mode": {
    "name": "ipython",
    "version": 3
   },
   "file_extension": ".py",
   "mimetype": "text/x-python",
   "name": "python",
   "nbconvert_exporter": "python",
   "pygments_lexer": "ipython3",
   "version": "3.7.6"
  }
 },
 "nbformat": 4,
 "nbformat_minor": 4
}
